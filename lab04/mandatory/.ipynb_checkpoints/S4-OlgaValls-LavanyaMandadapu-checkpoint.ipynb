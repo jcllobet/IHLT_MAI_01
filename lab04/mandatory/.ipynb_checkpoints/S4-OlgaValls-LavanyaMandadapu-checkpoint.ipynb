{
 "cells": [
  {
   "cell_type": "markdown",
   "metadata": {},
   "source": [
    "## Mandatory Exercise - Session 4\n",
    "### Olga Valls & Lavanya Mandadapu"
   ]
  },
  {
   "cell_type": "markdown",
   "metadata": {},
   "source": [
    "We import the packages that we need"
   ]
  },
  {
   "cell_type": "code",
   "execution_count": 1,
   "metadata": {},
   "outputs": [],
   "source": [
    "from nltk.tag.hmm import HiddenMarkovModelTrainer\n",
    "from nltk.corpus import treebank\n",
    "from nltk.tag import tnt\n",
    "from nltk.tag.perceptron import PerceptronTagger\n",
    "from nltk.tag import CRFTagger\n",
    "import dill"
   ]
  },
  {
   "cell_type": "markdown",
   "metadata": {},
   "source": [
    "Create arrays:\n",
    "- number of senteces for training set\n",
    "- accurary array to save the values for each of the models"
   ]
  },
  {
   "cell_type": "code",
   "execution_count": 2,
   "metadata": {},
   "outputs": [],
   "source": [
    "number_sen = [500, 1000, 1500, 2000, 2500, 3000]\n",
    "accuracies_HMM = []\n",
    "accuracies_TnT = []\n",
    "accuracies_PER = []\n",
    "accuracies_CRF = []"
   ]
  },
  {
   "cell_type": "markdown",
   "metadata": {},
   "source": [
    "Initialize models:"
   ]
  },
  {
   "cell_type": "code",
   "execution_count": 3,
   "metadata": {},
   "outputs": [],
   "source": [
    "trainer = HiddenMarkovModelTrainer()\n",
    "TnT = tnt.TnT()\n",
    "PER = PerceptronTagger(load=False)\n",
    "CRF = CRFTagger()"
   ]
  },
  {
   "cell_type": "markdown",
   "metadata": {},
   "source": [
    "Test data with the sentences from 3001:"
   ]
  },
  {
   "cell_type": "code",
   "execution_count": 4,
   "metadata": {},
   "outputs": [],
   "source": [
    "test_data = treebank.tagged_sents()[3000:]"
   ]
  },
  {
   "cell_type": "markdown",
   "metadata": {},
   "source": [
    "Train the different models using the first 500, 1000, 1500, 2000, 2500 and 3000 sentences"
   ]
  },
  {
   "cell_type": "code",
   "execution_count": 5,
   "metadata": {},
   "outputs": [
    {
     "name": "stdout",
     "output_type": "stream",
     "text": [
      "Num. sentences: 500\n",
      "Num. sentences: 1000\n",
      "Num. sentences: 1500\n",
      "Num. sentences: 2000\n",
      "Num. sentences: 2500\n",
      "Num. sentences: 3000\n",
      "...Finished\n"
     ]
    }
   ],
   "source": [
    "for i in number_sen:\n",
    "    print('Num. sentences: {}'.format(i))\n",
    "    train_data = treebank.tagged_sents()[:i]\n",
    "    HMM = trainer.train_supervised(train_data)\n",
    "    TnT.train(train_data)\n",
    "    PER.train(train_data)\n",
    "    CRF.train(train_data, 'crf_tagger_model')\n",
    "    accuracies_HMM.append(round(HMM.evaluate(test_data), 3))\n",
    "    accuracies_TnT.append(round(TnT.evaluate(test_data), 3))\n",
    "    accuracies_PER.append(round(PER.evaluate(test_data), 3))\n",
    "    accuracies_CRF.append(round(CRF.evaluate(test_data), 3))\n",
    "\n",
    "print('...Finished')"
   ]
  },
  {
   "cell_type": "markdown",
   "metadata": {},
   "source": [
    "Provide a <b>figure with four learning curves</b>, each per model type\n",
    "- X: training set size\n",
    "- Y: accuracy"
   ]
  },
  {
   "cell_type": "markdown",
   "metadata": {},
   "source": [
    "Import plotting library:"
   ]
  },
  {
   "cell_type": "code",
   "execution_count": 6,
   "metadata": {},
   "outputs": [],
   "source": [
    "import matplotlib.pyplot as plt"
   ]
  },
  {
   "cell_type": "markdown",
   "metadata": {},
   "source": [
    "Print the plot:"
   ]
  },
  {
   "cell_type": "code",
   "execution_count": 8,
   "metadata": {},
   "outputs": [
    {
     "data": {
      "image/png": "[encoded data removed]",
      "text/plain": [
       "<Figure size 432x288 with 1 Axes>"
      ]
     },
     "metadata": {
      "needs_background": "light"
     },
     "output_type": "display_data"
    }
   ],
   "source": [
    "x = number_sen\n",
    "plt.plot(x, accuracies_HMM, label='HMM')\n",
    "plt.plot(x, accuracies_TnT, label='TnT')\n",
    "plt.plot(x, accuracies_PER, label='PER')\n",
    "plt.plot(x, accuracies_CRF, label='CRF')\n",
    "plt.xlabel('Number of Sentences')\n",
    "plt.ylabel('Accuracy')\n",
    "plt.title('POS Models')\n",
    "plt.legend()\n",
    "plt.show()"
   ]
  },
  {
   "cell_type": "markdown",
   "metadata": {},
   "source": [
    "<b>Which model would you select?</b> Justify the answer.<br>\n",
    "We would choose the <b>perceptron</b> model, as well as the <b>CRF</b> model, are the ones that give the best accuracy for all sets of sentences, althought <b>PER</b> is a little bit better."
   ]
  },
  {
   "cell_type": "code",
   "execution_count": null,
   "metadata": {},
   "outputs": [],
   "source": []
  }
 ],
 "metadata": {
  "kernelspec": {
   "display_name": "Python 3",
   "language": "python",
   "name": "python3"
  },
  "language_info": {
   "codemirror_mode": {
    "name": "ipython",
    "version": 3
   },
   "file_extension": ".py",
   "mimetype": "text/x-python",
   "name": "python",
   "nbconvert_exporter": "python",
   "pygments_lexer": "ipython3",
   "version": "3.6.6"
  }
 },
 "nbformat": 4,
 "nbformat_minor": 2
}
