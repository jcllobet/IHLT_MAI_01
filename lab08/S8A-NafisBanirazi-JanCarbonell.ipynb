{
 "cells": [
  {
   "cell_type": "markdown",
   "metadata": {},
   "source": [
    "# Mandatory Exercise - Session 8\n",
    "\n",
    "### Students: Nafis Banirazi & Jan Carbonell\n",
    "\n",
    "### Lab Objective:\n",
    "The Objective of this lab is to:\n",
    "-Consider the following sentence: \"Lazy cats play with mice.\"\n",
    "-Expand the grammar of the example related to non-probabilistic chart parsers in order to subsume this new sentence.\n",
    "-Perform the constituency parsing using a BottomUpChartParser, a BottomUpLeftCornerChartParser and a LeftCornerChartParser.\n",
    "-For each one of them, provide the resulting tree, the number of edges and the list of explored edges.\n",
    "-Which parser is the most efficient for parsing the sentence?\n",
    "-Which edges are filtered out by each parser and why?"
   ]
  },
  {
   "cell_type": "markdown",
   "metadata": {},
   "source": [
    "## 1. Constituency parsing with NLTK\n",
    "This section will define a grammar and use different parsing methods to determine the constituency tree of a sentence."
   ]
  },
  {
   "cell_type": "markdown",
   "metadata": {},
   "source": [
    "### 1.1. Grammar definition\n",
    "The following cell defines a grammar that will allow to parse sentences with very specific terms and relations between them."
   ]
  },
  {
   "cell_type": "code",
   "execution_count": 1,
   "metadata": {},
   "outputs": [],
   "source": [
    "import nltk\n",
    "from nltk import CFG, ChartParser\n",
    "\n",
    "'''the grammar is expanded considering that:\n",
    "    - sentences are composed by noun and verb prhases\n",
    "    - \"mice\" is added as a possible plural name (NNS)\n",
    "    - \"with\" is added as a possible preposition (CC)\n",
    "    - \"play\" is added as the only possible verb (V)\n",
    "    - the verb phrase (VP) is defined as a verb (V) or a verb plus a prepositional phrase (V PP)\n",
    "    - the prepositional phrase is defined as a preposition plus a noun phrase (CC NP)\n",
    "'''\n",
    "grammar = CFG.fromstring('''\n",
    "                        S -> NP VP\n",
    "                        NP -> NNS | JJ NNS | NP CC NP \n",
    "                        NNS -> \"cats\" | \"dogs\" | \"mice\" | NNS CC NNS\n",
    "                        JJ -> \"big\" | \"small\" | \"lazy\"\n",
    "                        CC -> \"and\" | \"or\" | \"with\"\n",
    "                        V -> \"play\"\n",
    "                        VP -> V PP | V\n",
    "                        PP -> CC NP\n",
    "                        ''')\n",
    "\n",
    "# sentence tokens\n",
    "sentence = nltk.word_tokenize(\"Lazy cats play with mice\".lower())"
   ]
  },
  {
   "cell_type": "code",
   "execution_count": 3,
   "metadata": {},
   "outputs": [
    {
     "name": "stdout",
     "output_type": "stream",
     "text": [
      "Grammar with 18 productions (start state = S)\n",
      "    S -> NP VP\n",
      "    NP -> NNS\n",
      "    NP -> JJ NNS\n",
      "    NP -> NP CC NP\n",
      "    NNS -> 'cats'\n",
      "    NNS -> 'dogs'\n",
      "    NNS -> 'mice'\n",
      "    NNS -> NNS CC NNS\n",
      "    JJ -> 'big'\n",
      "    JJ -> 'small'\n",
      "    JJ -> 'lazy'\n",
      "    CC -> 'and'\n",
      "    CC -> 'or'\n",
      "    CC -> 'with'\n",
      "    V -> 'play'\n",
      "    VP -> V PP\n",
      "    VP -> V\n",
      "    PP -> CC NP\n",
      "['lazy', 'cats', 'play', 'with', 'mice']\n"
     ]
    }
   ],
   "source": [
    "print(grammar)\n",
    "print(sentence)"
   ]
  },
  {
   "cell_type": "markdown",
   "metadata": {},
   "source": [
    "### 1.2. Constituency parsing\n",
    "The following cells perform the constituency parsing using a BottomUpChartParser, a BottomUpLeftCornerChartParser and a LeftCornerChartParser.m"
   ]
  },
  {
   "cell_type": "code",
   "execution_count": null,
   "metadata": {},
   "outputs": [],
   "source": [
    "from nltk import BottomUpChartParser, ChartParser, LeftCornerChartParser\n",
    "\n",
    "all_edges = []\n",
    "\n",
    "print(\"Sentence to parse: {}\\n\".format(sentence))\n",
    "\n",
    "# use different parser classes\n",
    "for parser_class, parser_name in [(BottomUpChartParser, \"BottomUpChartParser\"), (ChartParser, \"BottomUpLeftCornerChartParser\"), (LeftCornerChartParser, \"LeftCornerChartParser\")]:\n"
   ]
  }
 ],
 "metadata": {
  "kernelspec": {
   "display_name": "Python 3",
   "language": "python",
   "name": "python3"
  },
  "language_info": {
   "codemirror_mode": {
    "name": "ipython",
    "version": 3
   },
   "file_extension": ".py",
   "mimetype": "text/x-python",
   "name": "python",
   "nbconvert_exporter": "python",
   "pygments_lexer": "ipython3",
   "version": "3.6.6"
  }
 },
 "nbformat": 4,
 "nbformat_minor": 2
}
