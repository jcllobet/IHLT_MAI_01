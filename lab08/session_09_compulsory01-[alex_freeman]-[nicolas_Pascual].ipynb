{
 "cells": [
  {
   "cell_type": "code",
   "execution_count": 1,
   "metadata": {},
   "outputs": [],
   "source": [
    "import nltk\n",
    "from nltk import CFG, ChartParser\n",
    "import time"
   ]
  },
  {
   "cell_type": "code",
   "execution_count": 2,
   "metadata": {},
   "outputs": [],
   "source": [
    "grammar = CFG.fromstring(\"\"\"\n",
    "    NP -> NNS | JJ NNS | NP CC NP | NP V CC NP\n",
    "    NNS -> \"cats\" | \"dogs\" | \"mice\" | NNS CC NNS\n",
    "    JJ -> \"big\" | \"small\" | \"lazy\"\n",
    "    CC -> \"and\" | \"or\" | \"with\"\n",
    "    V -> \"play\"\n",
    "\"\"\")\n",
    "\n",
    "sent = ['lazy', 'cats', 'play', 'with', 'mice']\n",
    "\n"
   ]
  },
  {
   "cell_type": "code",
   "execution_count": 3,
   "metadata": {},
   "outputs": [],
   "source": [
    "def gen_tree(parse_alg):\n",
    "    start = time.time()\n",
    "    parser = parse_alg(grammar)\n",
    "    parse = parser.parse(sent)\n",
    "    chart_parse = parser.chart_parse(sent)\n",
    "    ts = [t for t in parse]\n",
    "    print(parse_alg.__name__)\n",
    "    print('Number of trees: ', len(ts))\n",
    "    print('Num edges: ', chart_parse.num_edges())\n",
    "    print('Execution time: ', time.time() - start)\n",
    "    print(chart_parse.edges())   \n",
    "    return ts[0]"
   ]
  },
  {
   "cell_type": "markdown",
   "metadata": {},
   "source": [
    "## BottomUpChartParser"
   ]
  },
  {
   "cell_type": "code",
   "execution_count": 4,
   "metadata": {},
   "outputs": [
    {
     "name": "stdout",
     "output_type": "stream",
     "text": [
      "BottomUpChartParser\n",
      "Number of trees:  1\n",
      "Num edges:  48\n",
      "Execution time:  0.0023851394653320312\n",
      "[[Edge: [0:1] 'lazy'], [Edge: [1:2] 'cats'], [Edge: [2:3] 'play'], [Edge: [3:4] 'with'], [Edge: [4:5] 'mice'], [Edge: [0:0] JJ -> * 'lazy'], [Edge: [0:1] JJ -> 'lazy' *], [Edge: [0:0] NP -> * JJ NNS], [Edge: [0:1] NP -> JJ * NNS], [Edge: [1:1] NNS -> * 'cats'], [Edge: [1:2] NNS -> 'cats' *], [Edge: [1:1] NP -> * NNS], [Edge: [1:1] NNS -> * NNS CC NNS], [Edge: [0:2] NP -> JJ NNS *], [Edge: [1:2] NP -> NNS *], [Edge: [1:2] NNS -> NNS * CC NNS], [Edge: [1:1] NP -> * NP CC NP], [Edge: [1:1] NP -> * NP V CC NP], [Edge: [1:2] NP -> NP * CC NP], [Edge: [1:2] NP -> NP * V CC NP], [Edge: [0:0] NP -> * NP CC NP], [Edge: [0:0] NP -> * NP V CC NP], [Edge: [0:2] NP -> NP * CC NP], [Edge: [0:2] NP -> NP * V CC NP], [Edge: [2:2] V  -> * 'play'], [Edge: [2:3] V  -> 'play' *], [Edge: [1:3] NP -> NP V * CC NP], [Edge: [0:3] NP -> NP V * CC NP], [Edge: [3:3] CC -> * 'with'], [Edge: [3:4] CC -> 'with' *], [Edge: [1:4] NP -> NP V CC * NP], [Edge: [0:4] NP -> NP V CC * NP], [Edge: [4:4] NNS -> * 'mice'], [Edge: [4:5] NNS -> 'mice' *], [Edge: [4:4] NP -> * NNS], [Edge: [4:4] NNS -> * NNS CC NNS], [Edge: [4:5] NP -> NNS *], [Edge: [4:5] NNS -> NNS * CC NNS], [Edge: [4:4] NP -> * NP CC NP], [Edge: [4:4] NP -> * NP V CC NP], [Edge: [1:5] NP -> NP V CC NP *], [Edge: [0:5] NP -> NP V CC NP *], [Edge: [4:5] NP -> NP * CC NP], [Edge: [4:5] NP -> NP * V CC NP], [Edge: [0:5] NP -> NP * CC NP], [Edge: [0:5] NP -> NP * V CC NP], [Edge: [1:5] NP -> NP * CC NP], [Edge: [1:5] NP -> NP * V CC NP]]\n"
     ]
    },
    {
     "data": {
      "image/png": "[encoded data removed]",
      "text/plain": [
       "Tree('NP', [Tree('NP', [Tree('JJ', ['lazy']), Tree('NNS', ['cats'])]), Tree('V', ['play']), Tree('CC', ['with']), Tree('NP', [Tree('NNS', ['mice'])])])"
      ]
     },
     "execution_count": 4,
     "metadata": {},
     "output_type": "execute_result"
    }
   ],
   "source": [
    "gen_tree(nltk.BottomUpChartParser)"
   ]
  },
  {
   "cell_type": "markdown",
   "metadata": {},
   "source": [
    "# BottomUpLeftCornerChartParser"
   ]
  },
  {
   "cell_type": "code",
   "execution_count": 5,
   "metadata": {},
   "outputs": [
    {
     "name": "stdout",
     "output_type": "stream",
     "text": [
      "BottomUpChartParser\n",
      "Number of trees:  1\n",
      "Num edges:  48\n",
      "Execution time:  0.002766132354736328\n",
      "[[Edge: [0:1] 'lazy'], [Edge: [1:2] 'cats'], [Edge: [2:3] 'play'], [Edge: [3:4] 'with'], [Edge: [4:5] 'mice'], [Edge: [0:0] JJ -> * 'lazy'], [Edge: [0:1] JJ -> 'lazy' *], [Edge: [0:0] NP -> * JJ NNS], [Edge: [0:1] NP -> JJ * NNS], [Edge: [1:1] NNS -> * 'cats'], [Edge: [1:2] NNS -> 'cats' *], [Edge: [1:1] NP -> * NNS], [Edge: [1:1] NNS -> * NNS CC NNS], [Edge: [0:2] NP -> JJ NNS *], [Edge: [1:2] NP -> NNS *], [Edge: [1:2] NNS -> NNS * CC NNS], [Edge: [1:1] NP -> * NP CC NP], [Edge: [1:1] NP -> * NP V CC NP], [Edge: [1:2] NP -> NP * CC NP], [Edge: [1:2] NP -> NP * V CC NP], [Edge: [0:0] NP -> * NP CC NP], [Edge: [0:0] NP -> * NP V CC NP], [Edge: [0:2] NP -> NP * CC NP], [Edge: [0:2] NP -> NP * V CC NP], [Edge: [2:2] V  -> * 'play'], [Edge: [2:3] V  -> 'play' *], [Edge: [1:3] NP -> NP V * CC NP], [Edge: [0:3] NP -> NP V * CC NP], [Edge: [3:3] CC -> * 'with'], [Edge: [3:4] CC -> 'with' *], [Edge: [1:4] NP -> NP V CC * NP], [Edge: [0:4] NP -> NP V CC * NP], [Edge: [4:4] NNS -> * 'mice'], [Edge: [4:5] NNS -> 'mice' *], [Edge: [4:4] NP -> * NNS], [Edge: [4:4] NNS -> * NNS CC NNS], [Edge: [4:5] NP -> NNS *], [Edge: [4:5] NNS -> NNS * CC NNS], [Edge: [4:4] NP -> * NP CC NP], [Edge: [4:4] NP -> * NP V CC NP], [Edge: [1:5] NP -> NP V CC NP *], [Edge: [0:5] NP -> NP V CC NP *], [Edge: [4:5] NP -> NP * CC NP], [Edge: [4:5] NP -> NP * V CC NP], [Edge: [0:5] NP -> NP * CC NP], [Edge: [0:5] NP -> NP * V CC NP], [Edge: [1:5] NP -> NP * CC NP], [Edge: [1:5] NP -> NP * V CC NP]]\n"
     ]
    },
    {
     "data": {
      "image/png": "[encoded data removed]",
      "text/plain": [
       "Tree('NP', [Tree('NP', [Tree('JJ', ['lazy']), Tree('NNS', ['cats'])]), Tree('V', ['play']), Tree('CC', ['with']), Tree('NP', [Tree('NNS', ['mice'])])])"
      ]
     },
     "execution_count": 5,
     "metadata": {},
     "output_type": "execute_result"
    }
   ],
   "source": [
    "gen_tree(nltk.BottomUpChartParser)"
   ]
  },
  {
   "cell_type": "markdown",
   "metadata": {},
   "source": [
    "# LeftCornerChartParser"
   ]
  },
  {
   "cell_type": "code",
   "execution_count": 6,
   "metadata": {},
   "outputs": [
    {
     "name": "stdout",
     "output_type": "stream",
     "text": [
      "LeftCornerChartParser\n",
      "Number of trees:  1\n",
      "Num edges:  22\n",
      "Execution time:  0.0013034343719482422\n",
      "[[Edge: [0:1] 'lazy'], [Edge: [1:2] 'cats'], [Edge: [2:3] 'play'], [Edge: [3:4] 'with'], [Edge: [4:5] 'mice'], [Edge: [0:1] JJ -> 'lazy' *], [Edge: [0:1] NP -> JJ * NNS], [Edge: [1:2] NNS -> 'cats' *], [Edge: [1:2] NP -> NNS *], [Edge: [0:2] NP -> JJ NNS *], [Edge: [0:2] NP -> NP * V CC NP], [Edge: [1:2] NP -> NP * V CC NP], [Edge: [2:3] V  -> 'play' *], [Edge: [0:3] NP -> NP V * CC NP], [Edge: [1:3] NP -> NP V * CC NP], [Edge: [3:4] CC -> 'with' *], [Edge: [0:4] NP -> NP V CC * NP], [Edge: [1:4] NP -> NP V CC * NP], [Edge: [4:5] NNS -> 'mice' *], [Edge: [4:5] NP -> NNS *], [Edge: [0:5] NP -> NP V CC NP *], [Edge: [1:5] NP -> NP V CC NP *]]\n"
     ]
    },
    {
     "data": {
      "image/png": "[encoded data removed]",
      "text/plain": [
       "Tree('NP', [Tree('NP', [Tree('JJ', ['lazy']), Tree('NNS', ['cats'])]), Tree('V', ['play']), Tree('CC', ['with']), Tree('NP', [Tree('NNS', ['mice'])])])"
      ]
     },
     "execution_count": 6,
     "metadata": {},
     "output_type": "execute_result"
    }
   ],
   "source": [
    "gen_tree(nltk.LeftCornerChartParser)"
   ]
  },
  {
   "cell_type": "markdown",
   "metadata": {},
   "source": [
    "### Most Efficient Parser\n",
    "\n",
    "The most efficient parser is LeftCornerChartParser as it is able to explore only 22 edges, it is also the most efficient one in terms of resources. Executions times can be seen in the following metrics:\n",
    "```\n",
    "10k Iterations:\n",
    "BottomUpChartParser t = 12.577884912490845\n",
    "BottomUpLeftCornerChartParser t = 6.574414968490601\n",
    "LeftCornerChartParser t = 5.787549257278442\n",
    "```\n",
    "\n",
    "### Edges Filtered Out\n",
    "\n",
    "The only one filtering out edges is the LeftCornerChartParser as it is filtering words without new word subsumptions. Some examples of avoidance are:\n",
    "```\n",
    "[Edge: [0:0] NP -> * JJ NNS],\n",
    "[Edge: [0:1] NP -> JJ * NNS],\n",
    "[Edge: [1:1] NNS -> * 'cats'],\n",
    "```\n",
    "and\n",
    "```\n",
    "[Edge: [4:5] NNS -> NNS * CC NNS], \n",
    "[Edge: [4:4] NP -> * NP CC NP], \n",
    "[Edge: [4:4] NP -> * NP V CC NP],\n",
    "[Edge: [1:5] NP -> NP V CC NP *], \n",
    "[Edge: [0:5] NP -> NP V CC NP *], \n",
    "[Edge: [4:5] NP -> NP * CC NP],\n",
    "[Edge: [4:5] NP -> NP * V CC NP],\n",
    "[Edge: [0:5] NP -> NP * CC NP],\n",
    "[Edge: [0:5] NP -> NP * V CC NP],\n",
    "```"
   ]
  },
  {
   "cell_type": "code",
   "execution_count": null,
   "metadata": {},
   "outputs": [],
   "source": []
  }
 ],
 "metadata": {
  "kernelspec": {
   "display_name": "Python 3",
   "language": "python",
   "name": "python3"
  },
  "language_info": {
   "codemirror_mode": {
    "name": "ipython",
    "version": 3
   },
   "file_extension": ".py",
   "mimetype": "text/x-python",
   "name": "python",
   "nbconvert_exporter": "python",
   "pygments_lexer": "ipython3",
   "version": "3.6.0"
  }
 },
 "nbformat": 4,
 "nbformat_minor": 2
}
