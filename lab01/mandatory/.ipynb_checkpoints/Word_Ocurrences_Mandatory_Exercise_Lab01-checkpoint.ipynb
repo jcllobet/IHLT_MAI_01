{
 "cells": [
  {
   "cell_type": "code",
   "execution_count": 1,
   "metadata": {
    "scrolled": true
   },
   "outputs": [
    {
     "name": "stdout",
     "output_type": "stream",
     "text": [
      "[nltk_data] Downloading package stopwords to /home/jan/nltk_data...\n",
      "[nltk_data]   Package stopwords is already up-to-date!\n",
      "[nltk_data] Downloading package gutenberg to /home/jan/nltk_data...\n",
      "[nltk_data]   Package gutenberg is already up-to-date!\n",
      "[nltk_data] Downloading package punkt to /home/jan/nltk_data...\n",
      "[nltk_data]   Package punkt is already up-to-date!\n"
     ]
    }
   ],
   "source": [
    "import nltk\n",
    "nltk.download('stopwords')\n",
    "nltk.download('gutenberg')\n",
    "nltk.download('punkt')\n",
    "\n",
    "from nltk.corpus import stopwords\n",
    "from nltk.corpus import gutenberg\n",
    "from nltk.text import Text"
   ]
  },
  {
   "cell_type": "code",
   "execution_count": 2,
   "metadata": {},
   "outputs": [],
   "source": [
    "cp = nltk.corpus.gutenberg.words('blake-poems.txt')\n",
    "stopWords = set(stopwords.words('english'))\n",
    "wordsFiltered = []"
   ]
  },
  {
   "cell_type": "markdown",
   "metadata": {},
   "source": [
    "After initializing our initial list from blake poems and the common stopping words from the english language https://en.wikipedia.org/wiki/Stop_words, we initialize an empty list for the filtered words and begin the preprocessing in which:\n",
    "-we remove all the words < 2 to avoid ., and special characters\n",
    "-we compare our reduced word list with the stopwords to create an initial filter"
   ]
  },
  {
   "cell_type": "code",
   "execution_count": 3,
   "metadata": {},
   "outputs": [],
   "source": [
    "# list of words with more than 2 chars\n",
    "lst = [w for w in cp if len(w)>2]\n",
    "\n",
    "for w in lst:\n",
    "    if w.lower() not in stopWords:\n",
    "        wordsFiltered.append(w.lower())"
   ]
  },
  {
   "cell_type": "markdown",
   "metadata": {},
   "source": [
    "It is not possible to sort a dictionary, only to get a representation of a dictionary that is sorted. Dictionaries are inherently orderless, but other types, such as lists and tuples, are not. So you need an ordered data type to represent sorted values, which will be a list—probably a list of tuples.\n",
    "\n",
    "Note that in Python 3 unpacking is not allowed (https://stackoverflow.com/a/15712231/4293057) so we use the lambda function. \n",
    "\n",
    "key=lambda x: x[0] sorts by keys\n",
    "key=lambda x: x[1] sorts by values, which is what we want to display the higher frequency\n",
    "sorted_x.reverse() will give us a descending ordering (by the second tuple element) --> from higher to lower.\n",
    "\n",
    "Further tutorial on lambda: https://www.python-course.eu/python3_lambda.php\n"
   ]
  },
  {
   "cell_type": "code",
   "execution_count": 4,
   "metadata": {},
   "outputs": [
    {
     "data": {
      "text/plain": [
       "[('little', 45),\n",
       " ('thee', 42),\n",
       " ('thou', 35),\n",
       " ('like', 35),\n",
       " ('thy', 31),\n",
       " ('love', 29),\n",
       " ('night', 28),\n",
       " ('sweet', 28),\n",
       " ('joy', 25),\n",
       " ('weep', 24),\n",
       " ('away', 24),\n",
       " ('father', 22),\n",
       " ('sleep', 21),\n",
       " ('mother', 19),\n",
       " ('day', 19),\n",
       " ('shall', 19),\n",
       " ('happy', 19),\n",
       " ('child', 18),\n",
       " ('never', 17),\n",
       " ('every', 17),\n",
       " ('human', 16),\n",
       " ('see', 16),\n",
       " ('infant', 16),\n",
       " ('voice', 16),\n",
       " ('green', 16)]"
      ]
     },
     "execution_count": 4,
     "metadata": {},
     "output_type": "execute_result"
    }
   ],
   "source": [
    "# frequencies of words\n",
    "freqs = {w:wordsFiltered.count(w) for w in wordsFiltered}\n",
    "sorted_by_value = sorted(freqs.items(), key=lambda x: x[1])\n",
    "sorted_by_value.reverse()\n",
    "sorted_by_value[:25]"
   ]
  }
 ],
 "metadata": {
  "kernelspec": {
   "display_name": "Python 3",
   "language": "python",
   "name": "python3"
  },
  "language_info": {
   "codemirror_mode": {
    "name": "ipython",
    "version": 3
   },
   "file_extension": ".py",
   "mimetype": "text/x-python",
   "name": "python",
   "nbconvert_exporter": "python",
   "pygments_lexer": "ipython3",
   "version": "3.6.6"
  }
 },
 "nbformat": 4,
 "nbformat_minor": 2
}
