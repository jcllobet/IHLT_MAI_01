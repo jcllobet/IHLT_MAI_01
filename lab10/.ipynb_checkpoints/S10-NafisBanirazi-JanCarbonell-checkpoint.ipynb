{
 "cells": [
  {
   "cell_type": "markdown",
   "metadata": {},
   "source": [
    "# Mandatory Exercise - Session 10\n",
    "\n",
    "### Students: Nafis Banirazi & Jan Carbonell\n",
    "\n",
    "### Lab Objective:\n",
    "The Objective of this lab is to:\n",
    "-Study the correferences among one given text and point out when it works / doesn't. Elaborate on why that may be. "
   ]
  },
  {
   "cell_type": "code",
   "execution_count": 1,
   "metadata": {},
   "outputs": [],
   "source": [
    "def show(d):\n",
    "    crs = d['corefs']\n",
    "    for k, num in zip(crs, range(1, len(crs) + 1)):\n",
    "        print('Chain', num , ':')\n",
    "        l = crs[k]\n",
    "        for e in l:\n",
    "            print('\\t', e['text'], e['gender'], e['number'], e['isRepresentativeMention'], e['type'])"
   ]
  },
  {
   "cell_type": "code",
   "execution_count": 2,
   "metadata": {},
   "outputs": [],
   "source": [
    "from nltk.parse import CoreNLPParser\n",
    "tagger = CoreNLPParser(url='http://localhost:9000')\n",
    "tagger.parser_annotator = 'tokenize,ssplit,pos,lemma,ner,depparse,coref'"
   ]
  },
  {
   "cell_type": "code",
   "execution_count": 3,
   "metadata": {},
   "outputs": [],
   "source": [
    "#Example 1 --> Try again with local PC. \n",
    "text = \"Barack Obama was born in Hawaii.\" #He is the president. Obama was elected in 2008.\n",
    "res = tagger.api_call(text)\n",
    "show(res)"
   ]
  },
  {
   "cell_type": "code",
   "execution_count": 4,
   "metadata": {},
   "outputs": [
    {
     "name": "stdout",
     "output_type": "stream",
     "text": [
      "Chain 1 :\n",
      "\t Alice FEMALE SINGULAR False PROPER\n",
      "\t her FEMALE SINGULAR False PRONOMINAL\n",
      "\t she FEMALE SINGULAR False PRONOMINAL\n",
      "\t her FEMALE SINGULAR False PRONOMINAL\n",
      "\t Alice ` without pictures or conversations FEMALE SINGULAR True PROPER\n",
      "Chain 2 :\n",
      "\t her sister FEMALE SINGULAR True NOMINAL\n",
      "\t her sister FEMALE SINGULAR False NOMINAL\n",
      "Chain 3 :\n",
      "\t the book her sister was reading NEUTRAL SINGULAR True NOMINAL\n",
      "\t it NEUTRAL SINGULAR False PRONOMINAL\n",
      "\t it NEUTRAL SINGULAR False PRONOMINAL\n"
     ]
    }
   ],
   "source": [
    "text = \"\"\"Alice was beginning to get very tired of sitting by her sister on the\n",
    "bank, and of having nothing to do: once or twice she had peeped into the\n",
    "book her sister was reading, but it had no pictures or conversations in\n",
    "it, ‘and what is the use of a book,’ thought Alice ‘without pictures or\n",
    "conversations?’\"\"\"\n",
    "res = tagger.api_call(text)\n",
    "show(res)"
   ]
  },
  {
   "cell_type": "code",
   "execution_count": 5,
   "metadata": {},
   "outputs": [
    {
     "data": {
      "text/plain": [
       "{'17': [{'id': 0,\n",
       "   'text': 'Alice',\n",
       "   'type': 'PROPER',\n",
       "   'number': 'SINGULAR',\n",
       "   'gender': 'FEMALE',\n",
       "   'animacy': 'ANIMATE',\n",
       "   'startIndex': 1,\n",
       "   'endIndex': 2,\n",
       "   'headIndex': 1,\n",
       "   'sentNum': 1,\n",
       "   'position': [1, 1],\n",
       "   'isRepresentativeMention': False},\n",
       "  {'id': 2,\n",
       "   'text': 'her',\n",
       "   'type': 'PRONOMINAL',\n",
       "   'number': 'SINGULAR',\n",
       "   'gender': 'FEMALE',\n",
       "   'animacy': 'ANIMATE',\n",
       "   'startIndex': 11,\n",
       "   'endIndex': 12,\n",
       "   'headIndex': 11,\n",
       "   'sentNum': 1,\n",
       "   'position': [1, 3],\n",
       "   'isRepresentativeMention': False},\n",
       "  {'id': 6,\n",
       "   'text': 'she',\n",
       "   'type': 'PRONOMINAL',\n",
       "   'number': 'SINGULAR',\n",
       "   'gender': 'FEMALE',\n",
       "   'animacy': 'ANIMATE',\n",
       "   'startIndex': 27,\n",
       "   'endIndex': 28,\n",
       "   'headIndex': 27,\n",
       "   'sentNum': 1,\n",
       "   'position': [1, 7],\n",
       "   'isRepresentativeMention': False},\n",
       "  {'id': 8,\n",
       "   'text': 'her',\n",
       "   'type': 'PRONOMINAL',\n",
       "   'number': 'SINGULAR',\n",
       "   'gender': 'FEMALE',\n",
       "   'animacy': 'ANIMATE',\n",
       "   'startIndex': 33,\n",
       "   'endIndex': 34,\n",
       "   'headIndex': 33,\n",
       "   'sentNum': 1,\n",
       "   'position': [1, 9],\n",
       "   'isRepresentativeMention': False},\n",
       "  {'id': 17,\n",
       "   'text': 'Alice ` without pictures or conversations',\n",
       "   'type': 'PROPER',\n",
       "   'number': 'SINGULAR',\n",
       "   'gender': 'FEMALE',\n",
       "   'animacy': 'ANIMATE',\n",
       "   'startIndex': 60,\n",
       "   'endIndex': 66,\n",
       "   'headIndex': 60,\n",
       "   'sentNum': 1,\n",
       "   'position': [1, 18],\n",
       "   'isRepresentativeMention': True}],\n",
       " '9': [{'id': 3,\n",
       "   'text': 'her sister',\n",
       "   'type': 'NOMINAL',\n",
       "   'number': 'SINGULAR',\n",
       "   'gender': 'FEMALE',\n",
       "   'animacy': 'ANIMATE',\n",
       "   'startIndex': 11,\n",
       "   'endIndex': 13,\n",
       "   'headIndex': 12,\n",
       "   'sentNum': 1,\n",
       "   'position': [1, 4],\n",
       "   'isRepresentativeMention': True},\n",
       "  {'id': 9,\n",
       "   'text': 'her sister',\n",
       "   'type': 'NOMINAL',\n",
       "   'number': 'SINGULAR',\n",
       "   'gender': 'FEMALE',\n",
       "   'animacy': 'ANIMATE',\n",
       "   'startIndex': 33,\n",
       "   'endIndex': 35,\n",
       "   'headIndex': 34,\n",
       "   'sentNum': 1,\n",
       "   'position': [1, 10],\n",
       "   'isRepresentativeMention': False}],\n",
       " '14': [{'id': 7,\n",
       "   'text': 'the book her sister was reading',\n",
       "   'type': 'NOMINAL',\n",
       "   'number': 'SINGULAR',\n",
       "   'gender': 'NEUTRAL',\n",
       "   'animacy': 'INANIMATE',\n",
       "   'startIndex': 31,\n",
       "   'endIndex': 37,\n",
       "   'headIndex': 32,\n",
       "   'sentNum': 1,\n",
       "   'position': [1, 8],\n",
       "   'isRepresentativeMention': True},\n",
       "  {'id': 10,\n",
       "   'text': 'it',\n",
       "   'type': 'PRONOMINAL',\n",
       "   'number': 'SINGULAR',\n",
       "   'gender': 'NEUTRAL',\n",
       "   'animacy': 'INANIMATE',\n",
       "   'startIndex': 39,\n",
       "   'endIndex': 40,\n",
       "   'headIndex': 39,\n",
       "   'sentNum': 1,\n",
       "   'position': [1, 11],\n",
       "   'isRepresentativeMention': False},\n",
       "  {'id': 14,\n",
       "   'text': 'it',\n",
       "   'type': 'PRONOMINAL',\n",
       "   'number': 'SINGULAR',\n",
       "   'gender': 'NEUTRAL',\n",
       "   'animacy': 'INANIMATE',\n",
       "   'startIndex': 46,\n",
       "   'endIndex': 47,\n",
       "   'headIndex': 46,\n",
       "   'sentNum': 1,\n",
       "   'position': [1, 15],\n",
       "   'isRepresentativeMention': False}]}"
      ]
     },
     "execution_count": 5,
     "metadata": {},
     "output_type": "execute_result"
    }
   ],
   "source": [
    "res['corefs']"
   ]
  },
  {
   "cell_type": "markdown",
   "metadata": {},
   "source": [
    "We can see how the method gets most of the different correferences except of the singletons. Other missed match: Alice ‘without pictures or conversations?’ --> Alice"
   ]
  }
 ],
 "metadata": {
  "kernelspec": {
   "display_name": "Python 3",
   "language": "python",
   "name": "python3"
  },
  "language_info": {
   "codemirror_mode": {
    "name": "ipython",
    "version": 3
   },
   "file_extension": ".py",
   "mimetype": "text/x-python",
   "name": "python",
   "nbconvert_exporter": "python",
   "pygments_lexer": "ipython3",
   "version": "3.6.7"
  }
 },
 "nbformat": 4,
 "nbformat_minor": 2
}
