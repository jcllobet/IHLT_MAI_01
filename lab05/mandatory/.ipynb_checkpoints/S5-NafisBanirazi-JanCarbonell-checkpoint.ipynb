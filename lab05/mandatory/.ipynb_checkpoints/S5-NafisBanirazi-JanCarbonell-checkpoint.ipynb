{
 "cells": [
  {
   "cell_type": "markdown",
   "metadata": {},
   "source": [
    "# Mandatory Exercise - Session 5\n",
    "\n",
    "### Students: Nafis Banirazi & Jan Carbonell\n",
    "\n",
    "### Lab Objective:\n",
    "The Objective of this lab is to categorize the given pairs, print their most frequent WordNet synset, their corresponding least common subsumer (LCS) and their similarity using the following functions:\n",
    "\n",
    "- Path Similarity\n",
    "- Leacock-Chodorow Similarity\n",
    "- Wu-Palmer Similarity\n",
    "- Lin Similarity\n"
   ]
  },
  {
   "cell_type": "code",
   "execution_count": 1,
   "metadata": {},
   "outputs": [],
   "source": [
    "# initial imports. Could also be done in the PC\n",
    "import nltk\n",
    "import numpy as np\n",
    "import pandas as pd\n",
    "import itertools\n",
    "\n",
    "#additional set of imports\n",
    "from nltk.corpus import wordnet as wn\n",
    "from nltk.corpus import wordnet_ic\n",
    "\n",
    "\n",
    "#given set of pairs\n",
    "pairs = [('the', 'DT'), ('man', 'NN'), ('swim', 'VB'), \\\n",
    "         ('with', 'PR'), ('a', 'DT'), ('girl', 'NN'), \\\n",
    "         ('and', 'CC'), ('a', 'DT'), ('boy', 'NN'), \\\n",
    "         ('whilst', 'PR'), ('the', 'DT'), ('woman', 'NN'), \\\n",
    "         ('walk', 'VB')]\n",
    "\n",
    "d = {}\n",
    "i = 1\n",
    "lcs = {}\n",
    "definition = []"
   ]
  },
  {
   "cell_type": "markdown",
   "metadata": {},
   "source": [
    "Now, for each pair, we will search for their most frequent WordNet sysnset. In the documentation we can find that there are also adjectives and adverbs listed as options but are not used in this given set of pairs. Listing it as a reference: https://wordnet.princeton.edu/documentation/wn1wn"
   ]
  },
  {
   "cell_type": "code",
   "execution_count": 2,
   "metadata": {},
   "outputs": [
    {
     "name": "stdout",
     "output_type": "stream",
     "text": [
      "man Synset('man.n.01')\n",
      "swim Synset('swim.v.01')\n",
      "girl Synset('girl.n.01')\n",
      "boy Synset('male_child.n.01')\n",
      "woman Synset('woman.n.01')\n",
      "walk Synset('walk.v.01')\n"
     ]
    }
   ],
   "source": [
    "for e in pairs:\n",
    "    if e[0] not in d:\n",
    "        if e[1] == 'NN':\n",
    "            d[e[0]] = wn.synset(e[0]+'.n.01')\n",
    "        elif e[1] == 'VB':\n",
    "            d[e[0]] = wn.synset(e[0]+'.v.01')\n",
    "            \n",
    "#verification that it is properly stored\n",
    "for keys,values in d.items():\n",
    "    print(keys, values)\n",
    "            "
   ]
  },
  {
   "cell_type": "code",
   "execution_count": 9,
   "metadata": {},
   "outputs": [
    {
     "data": {
      "text/plain": [
       "[Synset('entity.n.01')]"
      ]
     },
     "execution_count": 9,
     "metadata": {},
     "output_type": "execute_result"
    }
   ],
   "source": [
    "wn.synset('man.n.01').lowest_common_hypernyms(wn.synset('swim.n.01'))"
   ]
  },
  {
   "cell_type": "markdown",
   "metadata": {},
   "source": [
    "For each of the pairs that was found to be on WordNet, we now get their corresponding least commmon subsumer. That is the most specific common ancestor (hypernym) of two concepts found in a given ontology. For example, the LCS of moose and kangaroo in WordNet is mammal."
   ]
  },
  {
   "cell_type": "code",
   "execution_count": 7,
   "metadata": {},
   "outputs": [
    {
     "name": "stdout",
     "output_type": "stream",
     "text": [
      "1 ['man', 'swim', []]\n",
      "2 ['man', 'girl', [Synset('adult.n.01')]]\n",
      "3 ['man', 'boy', [Synset('male.n.02')]]\n",
      "4 ['man', 'woman', [Synset('adult.n.01')]]\n",
      "5 ['man', 'walk', []]\n",
      "6 ['swim', 'man', []]\n",
      "7 ['swim', 'girl', []]\n",
      "8 ['swim', 'boy', []]\n",
      "9 ['swim', 'woman', []]\n",
      "10 ['swim', 'walk', [Synset('travel.v.01')]]\n",
      "11 ['girl', 'man', [Synset('adult.n.01')]]\n",
      "12 ['girl', 'swim', []]\n",
      "13 ['girl', 'boy', [Synset('person.n.01')]]\n",
      "14 ['girl', 'woman', [Synset('woman.n.01')]]\n",
      "15 ['girl', 'walk', []]\n",
      "16 ['boy', 'man', [Synset('male.n.02')]]\n",
      "17 ['boy', 'swim', []]\n",
      "18 ['boy', 'girl', [Synset('person.n.01')]]\n",
      "19 ['boy', 'woman', [Synset('person.n.01')]]\n",
      "20 ['boy', 'walk', []]\n",
      "21 ['woman', 'man', [Synset('adult.n.01')]]\n",
      "22 ['woman', 'swim', []]\n",
      "23 ['woman', 'girl', [Synset('woman.n.01')]]\n",
      "24 ['woman', 'boy', [Synset('person.n.01')]]\n",
      "25 ['woman', 'walk', []]\n",
      "26 ['walk', 'man', []]\n",
      "27 ['walk', 'swim', [Synset('travel.v.01')]]\n",
      "28 ['walk', 'girl', []]\n",
      "29 ['walk', 'boy', []]\n",
      "30 ['walk', 'woman', []]\n",
      "31 ['man', 'girl', [Synset('adult.n.01')]]\n",
      "32 ['man', 'boy', [Synset('male.n.02')]]\n",
      "33 ['man', 'woman', [Synset('adult.n.01')]]\n",
      "34 ['swim', 'walk', [Synset('travel.v.01')]]\n",
      "35 ['girl', 'man', [Synset('adult.n.01')]]\n",
      "36 ['girl', 'boy', [Synset('person.n.01')]]\n",
      "37 ['girl', 'woman', [Synset('woman.n.01')]]\n",
      "38 ['boy', 'man', [Synset('male.n.02')]]\n",
      "39 ['boy', 'girl', [Synset('person.n.01')]]\n",
      "40 ['boy', 'woman', [Synset('person.n.01')]]\n",
      "41 ['woman', 'man', [Synset('adult.n.01')]]\n",
      "42 ['woman', 'girl', [Synset('woman.n.01')]]\n",
      "43 ['woman', 'boy', [Synset('person.n.01')]]\n",
      "44 ['walk', 'swim', [Synset('travel.v.01')]]\n",
      "45 ['man', 'swim', []]\n",
      "46 ['man', 'girl', [Synset('adult.n.01')]]\n",
      "47 ['man', 'boy', [Synset('male.n.02')]]\n",
      "48 ['man', 'woman', [Synset('adult.n.01')]]\n",
      "49 ['man', 'walk', []]\n",
      "50 ['swim', 'man', []]\n",
      "51 ['swim', 'girl', []]\n",
      "52 ['swim', 'boy', []]\n",
      "53 ['swim', 'woman', []]\n",
      "54 ['swim', 'walk', [Synset('travel.v.01')]]\n",
      "55 ['girl', 'man', [Synset('adult.n.01')]]\n",
      "56 ['girl', 'swim', []]\n",
      "57 ['girl', 'boy', [Synset('person.n.01')]]\n",
      "58 ['girl', 'woman', [Synset('woman.n.01')]]\n",
      "59 ['girl', 'walk', []]\n",
      "60 ['boy', 'man', [Synset('male.n.02')]]\n",
      "61 ['boy', 'swim', []]\n",
      "62 ['boy', 'girl', [Synset('person.n.01')]]\n",
      "63 ['boy', 'woman', [Synset('person.n.01')]]\n",
      "64 ['boy', 'walk', []]\n",
      "65 ['woman', 'man', [Synset('adult.n.01')]]\n",
      "66 ['woman', 'swim', []]\n",
      "67 ['woman', 'girl', [Synset('woman.n.01')]]\n",
      "68 ['woman', 'boy', [Synset('person.n.01')]]\n",
      "69 ['woman', 'walk', []]\n",
      "70 ['walk', 'man', []]\n",
      "71 ['walk', 'swim', [Synset('travel.v.01')]]\n",
      "72 ['walk', 'girl', []]\n",
      "73 ['walk', 'boy', []]\n",
      "74 ['walk', 'woman', []]\n"
     ]
    }
   ],
   "source": [
    "for key in d:\n",
    "    for alt in d:\n",
    "        if key != alt:\n",
    "            if d[key].lowest_common_hypernyms(d[alt]) != \"\":\n",
    "                lcs[i] = [key, alt, d[key].lowest_common_hypernyms(d[alt])]\n",
    "                i += 1\n",
    "#verification that it is properly stored\n",
    "for keys,values in lcs.items():\n",
    "    print(keys, values)"
   ]
  },
  {
   "cell_type": "markdown",
   "metadata": {},
   "source": [
    "We then plot the results, not only to better visualize the specific x and y coordinates that we have obtained and store but also to connect the dots and evaluate the overall increase in performance and benchmarking against the other models. "
   ]
  },
  {
   "cell_type": "code",
   "execution_count": 4,
   "metadata": {},
   "outputs": [
    {
     "ename": "NameError",
     "evalue": "name 'train_stop' is not defined",
     "output_type": "error",
     "traceback": [
      "\u001b[0;31m---------------------------------------------------------------------------\u001b[0m",
      "\u001b[0;31mNameError\u001b[0m                                 Traceback (most recent call last)",
      "\u001b[0;32m<ipython-input-4-2af0aed11b0b>\u001b[0m in \u001b[0;36m<module>\u001b[0;34m\u001b[0m\n\u001b[1;32m      3\u001b[0m \u001b[0;34m\u001b[0m\u001b[0m\n\u001b[1;32m      4\u001b[0m \u001b[0;31m#preparing and plotting the accuracy graph\u001b[0m\u001b[0;34m\u001b[0m\u001b[0;34m\u001b[0m\u001b[0m\n\u001b[0;32m----> 5\u001b[0;31m \u001b[0mx\u001b[0m \u001b[0;34m=\u001b[0m \u001b[0mtrain_stop\u001b[0m\u001b[0;34m\u001b[0m\u001b[0m\n\u001b[0m\u001b[1;32m      6\u001b[0m \u001b[0mplt\u001b[0m\u001b[0;34m.\u001b[0m\u001b[0mfigure\u001b[0m\u001b[0;34m(\u001b[0m\u001b[0;34m)\u001b[0m\u001b[0;34m\u001b[0m\u001b[0m\n\u001b[1;32m      7\u001b[0m \u001b[0mplt\u001b[0m\u001b[0;34m.\u001b[0m\u001b[0mplot\u001b[0m\u001b[0;34m(\u001b[0m\u001b[0mx\u001b[0m\u001b[0;34m,\u001b[0m \u001b[0maccuracy\u001b[0m\u001b[0;34m[\u001b[0m\u001b[0;34m'HMM'\u001b[0m\u001b[0;34m]\u001b[0m\u001b[0;34m,\u001b[0m \u001b[0mlabel\u001b[0m\u001b[0;34m=\u001b[0m\u001b[0;34m'HMM'\u001b[0m\u001b[0;34m)\u001b[0m\u001b[0;34m\u001b[0m\u001b[0m\n",
      "\u001b[0;31mNameError\u001b[0m: name 'train_stop' is not defined"
     ]
    }
   ],
   "source": [
    "#adding the necessary packages for plotting\n",
    "import matplotlib.pyplot as plt\n",
    "\n",
    "#preparing and plotting the accuracy graph\n",
    "x = train_stop\n",
    "plt.figure()\n",
    "plt.plot(x, accuracy['HMM'], label='HMM')\n",
    "plt.plot(x, accuracy['TnT'], label='TnT')\n",
    "plt.plot(x, accuracy['PER'], label='PER')\n",
    "plt.plot(x, accuracy['CRF'], label='CRF')\n",
    "\n",
    "#adding the legend showing the plot\n",
    "plt.xlabel('Number of Sentences')\n",
    "plt.ylabel('Model Accuracy')\n",
    "plt.title('Part Of Speech Models')\n",
    "plt.legend()\n",
    "plt.show()"
   ]
  },
  {
   "cell_type": "markdown",
   "metadata": {},
   "source": [
    "<b>Which model would you select?</b> Justify the answer.\n",
    "\n",
    "Based on the initial graph, both CRF and PER seem like the better performing algorithms. If we could only make a decision based on this data, we would pick the Perceptron model.\n",
    "\n",
    "In order to pick the best overall model, another relevant measure is the speed of the system. Because of this, we also have implemented a timer in between each of the models and will plot it accordingly to figure out which algorithms were more effective. "
   ]
  },
  {
   "cell_type": "code",
   "execution_count": null,
   "metadata": {},
   "outputs": [],
   "source": [
    "#preparing and plotting the accuracy graph\n",
    "x = train_stop\n",
    "plt.figure()\n",
    "plt.plot(x, time['HMM'], label='HMM')\n",
    "plt.plot(x, time['TnT'], label='TnT')\n",
    "plt.plot(x, time['PER'], label='PER')\n",
    "plt.plot(x, time['CRF'], label='CRF')\n",
    "\n",
    "#adding the legend showing the plot\n",
    "plt.xlabel('Number of Sentences')\n",
    "plt.ylabel('Model Execution Time')\n",
    "plt.title('Part Of Speech Models')\n",
    "plt.legend()\n",
    "plt.show()"
   ]
  },
  {
   "cell_type": "markdown",
   "metadata": {},
   "source": [
    "In this case, PER seems to be the most effective -accuracy wise- and second most time efficient algorithm. After having performed this additional execution time analysis <b> we are reinsured in our conclusion to pick the Perceptron Model.</b> "
   ]
  },
  {
   "cell_type": "markdown",
   "metadata": {},
   "source": [
    "## Conclusions\n",
    "Over the development of this lab, we have implemented 4 different POS Models, tested them with different segments of the treebank corpus and trained them with another set of segments. From those results, we have plotted their performanced based on accuracy and execution time and have selected the best performing model for this specific case, which happened to be the Perceptron Model. \n",
    "\n",
    "Another thing to highlight is that the HiddenMarkovModel looks really efficient timewise. It is likely that its just not in the desired set of conditions regarding the amount of data to perform correctly. \n"
   ]
  }
 ],
 "metadata": {
  "kernelspec": {
   "display_name": "Python 3",
   "language": "python",
   "name": "python3"
  },
  "language_info": {
   "codemirror_mode": {
    "name": "ipython",
    "version": 3
   },
   "file_extension": ".py",
   "mimetype": "text/x-python",
   "name": "python",
   "nbconvert_exporter": "python",
   "pygments_lexer": "ipython3",
   "version": "3.6.6"
  }
 },
 "nbformat": 4,
 "nbformat_minor": 2
}
