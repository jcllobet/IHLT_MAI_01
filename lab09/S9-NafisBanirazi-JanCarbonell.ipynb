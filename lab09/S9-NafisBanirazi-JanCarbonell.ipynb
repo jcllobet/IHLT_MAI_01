{
 "cells": [
  {
   "cell_type": "code",
   "execution_count": 1,
   "metadata": {},
   "outputs": [],
   "source": [
    "def show (d):\n",
    "    crs = d['corefs']\n",
    "    for k, num in zip(crs, range(1, len(crs) + 1)):\n",
    "        print('Chain', num, ':')\n",
    "        l = crs(k)\n",
    "        for e in l:\n",
    "            print('\\t', e['text'], e['gender'], e['number'], e['isRepresentativeMention'], e['type'])"
   ]
  },
  {
   "cell_type": "code",
   "execution_count": 2,
   "metadata": {},
   "outputs": [],
   "source": [
    "from nltk.parse import CoreNLPParser\n",
    "tagger = CoreNLPParser(url='http://localhost:9000')\n",
    "tagger.parser_annotator='tokenize,ssplit,pos,lemma,ner,depparse,coref'"
   ]
  },
  {
   "cell_type": "code",
   "execution_count": null,
   "metadata": {},
   "outputs": [],
   "source": [
    "#Example 1\n",
    "text = \"Barack Obama was born in Hawaii. He is the president. Obama was elected in 2008.\"\n",
    "res = tagger.api_call(text)\n",
    "show(res)"
   ]
  },
  {
   "cell_type": "code",
   "execution_count": null,
   "metadata": {},
   "outputs": [],
   "source": [
    "#Example 2\n",
    "text = \"He is the president. Barack Obama was born in Hawaii. Obama was elected in 2008.\"\n",
    "res = tagger.api_call(text)\n",
    "show(res)"
   ]
  },
  {
   "cell_type": "code",
   "execution_count": null,
   "metadata": {},
   "outputs": [],
   "source": [
    "#Example 3\n",
    "text = \"Barack Obama was born in Hawaii. Michele is his wife. Obama was elected in 2008.\"\n",
    "res = tagger.api_call(text)\n",
    "show(res)"
   ]
  }
 ],
 "metadata": {
  "kernelspec": {
   "display_name": "Python 3",
   "language": "python",
   "name": "python3"
  },
  "language_info": {
   "codemirror_mode": {
    "name": "ipython",
    "version": 3
   },
   "file_extension": ".py",
   "mimetype": "text/x-python",
   "name": "python",
   "nbconvert_exporter": "python",
   "pygments_lexer": "ipython3",
   "version": "3.6.6"
  }
 },
 "nbformat": 4,
 "nbformat_minor": 2
}
