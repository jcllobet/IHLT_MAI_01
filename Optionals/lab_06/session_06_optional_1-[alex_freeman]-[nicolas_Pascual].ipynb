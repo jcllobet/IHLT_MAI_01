{
 "cells": [
  {
   "cell_type": "code",
   "execution_count": 1,
   "metadata": {},
   "outputs": [],
   "source": [
    "import nltk\n",
    "from nltk.metrics import jaccard_distance\n",
    "from scipy.stats import pearsonr\n",
    "from nltk.wsd import lesk\n",
    "from nltk.corpus import wordnet as wn\n",
    "from nltk.stem import WordNetLemmatizer\n",
    "from nltk.corpus import stopwords\n",
    "from scipy import spatial\n",
    "from nltk.metrics import jaccard_distance\n",
    "import re"
   ]
  },
  {
   "cell_type": "code",
   "execution_count": 2,
   "metadata": {},
   "outputs": [
    {
     "data": {
      "text/plain": [
       "'id1\\tThe bird is bathing in the sink.\\tBirdie is washing itself in the water basin.\\nid2\\tIn May 2010, the troops attempted to invade Kabul.\\tThe US army invaded Kabul on May 7th last year, 2010.\\nid3\\tJohn said he is considered a witness but not a suspect.\\t\"He is not a suspect anymore.\" John said.\\nid4\\tThey flew out of the nest in groups.\\tThey flew into the nest together.\\nid5\\tThe woman is playing the violin.\\tThe young lady enjoys listening to the guitar.\\nid6\\tJohn went horse back riding at dawn with a whole group of friends.\\tSunrise at dawn is a magnificent view to take in if you wake up early enough for it.\\n'"
      ]
     },
     "execution_count": 2,
     "metadata": {},
     "output_type": "execute_result"
    }
   ],
   "source": [
    "with open('./given/trial/STS.input.txt') as input:\n",
    "    corpus = input.read()\n",
    "corpus"
   ]
  },
  {
   "cell_type": "markdown",
   "metadata": {},
   "source": [
    "## Initialize pos tagger\n",
    "We initialize the pos tagger that we will later use to get the pos tag of each word in order to obtain the sense"
   ]
  },
  {
   "cell_type": "code",
   "execution_count": 3,
   "metadata": {},
   "outputs": [],
   "source": [
    "from nltk.tag.perceptron import PerceptronTagger\n",
    "from nltk.corpus import treebank\n",
    "pos_model = PerceptronTagger(load=False)\n",
    "pos_model.train(treebank.tagged_sents())\n",
    "postag_mapper = {\n",
    "    'VERB': 'v',\n",
    "    'NOUN': 'n',\n",
    "    'ADJ': 'a',\n",
    "    'ADV': 'r'\n",
    "}"
   ]
  },
  {
   "cell_type": "markdown",
   "metadata": {},
   "source": [
    "The following functions will get the sense of each word in the sense passed sentence. \n",
    "Some alternatives to the default lesk algorithm are implemented aswell"
   ]
  },
  {
   "cell_type": "code",
   "execution_count": 4,
   "metadata": {},
   "outputs": [],
   "source": [
    "#basic Lesk: compare to definition + non-alpha chars removed\n",
    "def alpha_only_lesk_definition(context_sentence, ss_sentence):\n",
    "    ss_definition = ss_sentence.definition()\n",
    "    \n",
    "    #remove non-alphanum characters\n",
    "    ss_definition =  set(re.sub(\"[^ \\w]\",\" \", ss_definition).strip().split())\n",
    "    context_sentence = set(re.sub(\"[^ \\w]\",\" \", context_sentence).strip().split())\n",
    "    \n",
    "    return len(context_sentence.intersection(ss_definition))\n",
    "\n",
    "#Lesk using lemmas: compare to definition + non-alpha chars removed\n",
    "def alpha_lemma_lesk_definition(context_sentence, ss_sentence):\n",
    "    ss_definition = ss_sentence.definition()\n",
    "    \n",
    "    #remove non-alphanum characters\n",
    "    ss_definition =  set(re.sub(\"[^ \\w]\",\" \", ss_definition).strip().split())\n",
    "    context_sentence = set(re.sub(\"[^ \\w]\",\" \", context_sentence).strip().split())\n",
    "    \n",
    "    lemmatizer = WordNetLemmatizer()    \n",
    "    ss_definition = set([lemmatizer.lemmatize(w) for w in ss_definition])\n",
    "    context_sentence = set([lemmatizer.lemmatize(w) for w in ss_definition])\n",
    "    \n",
    "    return len(context_sentence.intersection(ss_definition))\n",
    "\n",
    "#modified Lesk: compare to examples + non-alpha chars removed\n",
    "def alpha_only_lesk_example(context_sentence, ss_sentence):\n",
    "    ss_definition = ss_sentence.definition()\n",
    "    \n",
    "    #remove non-alphanum characters\n",
    "    ss_definition =  set(re.sub(\"[^ \\w]\",\" \", ss_definition).strip().split())\n",
    "    context_sentence = set(re.sub(\"[^ \\w]\",\" \", context_sentence).strip().split())\n",
    "    \n",
    "    return len(context_sentence.intersection(ss_definition))\n",
    "\n",
    "#basic Lesk: compare to definition + non-alpha chars & stopwords removed\n",
    "def alpha_no_stop_lesk(context_sentence, ss_sentence):\n",
    "    sw = set(stopwords.words('english'))\n",
    "    ss_definition = ss_sentence.definition()\n",
    "    \n",
    "    #remove non-alphanum characters\n",
    "    ss_definition =  re.sub(\"[^ \\w]\",\" \", ss_definition).strip().split()\n",
    "    context_sentence = re.sub(\"[^ \\w]\",\" \", context_sentence).strip().split()\n",
    "    \n",
    "    ss_definition =  set([w for w in ss_definition if w not in sw])\n",
    "    context_sentence = set([w for w in context_sentence if w not in sw])\n",
    "    \n",
    "    return len(context_sentence.intersection(ss_definition))\n",
    "\n",
    "#convert word list to numerical vector 1 = a is in set (a,b), 0 = not in set\n",
    "def words2vector(list1, list2, wordset):\n",
    "    num_vec = []\n",
    "    for word in wordset:\n",
    "        if word in list1:\n",
    "            num_vec.append(1)\n",
    "        else:\n",
    "            num_vec.append(0)\n",
    "     \n",
    "    #print(num_vec)\n",
    "    return num_vec\n",
    "\n",
    "#cosine similarity non-alpha chars removed\n",
    "def cosine_similarity(context_sentence, ss_sentence):\n",
    "    ss_definition = ss_sentence.definition()\n",
    "    \n",
    "    #remove non-alphanum characters\n",
    "    ss_definition =  re.sub(\"[^ \\w]\",\" \", ss_definition).strip().split()\n",
    "    context_sentence = re.sub(\"[^ \\w]\",\" \", context_sentence).strip().split()\n",
    "    \n",
    "    wordset = set(ss_definition).union(set(context_sentence))\n",
    "    cos_similarity = 1 - spatial.distance.cosine(words2vector(ss_definition, context_sentence, wordset), words2vector(context_sentence, ss_definition, wordset))\n",
    "\n",
    "    return cos_similarity\n",
    "\n",
    "#jaccard similarity non-alpha chars removed\n",
    "def jaccard_sim(context_sentence, ss_sentence):\n",
    "    ss_definition = ss_sentence.definition()\n",
    "    \n",
    "    #remove non-alphanum characters\n",
    "    ss_definition =  set(re.sub(\"[^ \\w]\",\" \", ss_definition).strip().split())\n",
    "    context_sentence = set(re.sub(\"[^ \\w]\",\" \", context_sentence).strip().split())\n",
    "\n",
    "    return 1 - jaccard_distance(ss_definition, context_sentence)"
   ]
  },
  {
   "cell_type": "code",
   "execution_count": 5,
   "metadata": {},
   "outputs": [],
   "source": [
    "def get_definition(word, pos_tag, context, strategy):\n",
    "    synsets = wn.synsets(word, pos_tag)\n",
    "    if len(synsets) == 0: return None\n",
    "    _, sense = max((strategy(' '.join(context), ss), ss) for ss in synsets)\n",
    "    return sense\n",
    "    \n",
    "def sentence_to_sense(sentence, strategy=alpha_only_lesk_definition):\n",
    "    res = []\n",
    "    for word, pos_tag in pos_model.tag(sentence):\n",
    "        pos_tag = nltk.tag.mapping.map_tag('en-ptb', 'universal', pos_tag)\n",
    "        if pos_tag in postag_mapper:\n",
    "            sense = get_definition(word, postag_mapper[pos_tag], sentence, strategy)\n",
    "            res.append(sense or word)\n",
    "        else:\n",
    "            res.append(word)\n",
    "    return res"
   ]
  },
  {
   "cell_type": "markdown",
   "metadata": {},
   "source": [
    "## Divide the text into pairs of sentences\n",
    "We take the text and split it by their id, getting pairs of sentences separated by a tab, later we split those sentences by that tab."
   ]
  },
  {
   "cell_type": "code",
   "execution_count": 6,
   "metadata": {
    "scrolled": true
   },
   "outputs": [],
   "source": [
    "original_sentences = [\n",
    "        list(map(lambda sentence: nltk.word_tokenize(sentence), sentence_pair.strip().split('\\t')))\n",
    "        for sentence_pair in re.compile('id[\\d]\\t').split(corpus) \n",
    "        if sentence_pair != ''\n",
    "]"
   ]
  },
  {
   "cell_type": "markdown",
   "metadata": {},
   "source": [
    "## Calculate the Jaccard distance among the pairs of sentences\n",
    "We calculate the distance between the pairs of sentences to give a measure of their similarity and we contrast it with the golden ratio which is a real measure of the similarity from 0 to 5 being 0 phrases that are completely different and 5 phrases that mean exactly the same"
   ]
  },
  {
   "cell_type": "code",
   "execution_count": 7,
   "metadata": {},
   "outputs": [
    {
     "name": "stdout",
     "output_type": "stream",
     "text": [
      "Lesk Variant: alpha_only_lesk_definition\n",
      "Jaccard distance is 0.69 and its real golden ratio is 0\n",
      "Jaccard distance is 0.74 and its real golden ratio is 1\n",
      "Jaccard distance is 0.62 and its real golden ratio is 2\n",
      "Jaccard distance is 0.67 and its real golden ratio is 3\n",
      "Jaccard distance is 0.77 and its real golden ratio is 4\n",
      "Jaccard distance is 0.90 and its real golden ratio is 5\n",
      "Pearson linear correlation coefficient is: 0.649575809103873\n",
      "Lesk Variant: alpha_lemma_lesk_definition\n",
      "Jaccard distance is 0.69 and its real golden ratio is 0\n",
      "Jaccard distance is 0.67 and its real golden ratio is 1\n",
      "Jaccard distance is 0.62 and its real golden ratio is 2\n",
      "Jaccard distance is 0.55 and its real golden ratio is 3\n",
      "Jaccard distance is 0.77 and its real golden ratio is 4\n",
      "Jaccard distance is 0.86 and its real golden ratio is 5\n",
      "Pearson linear correlation coefficient is: 0.5191281385576342\n",
      "Lesk Variant: alpha_only_lesk_example\n",
      "Jaccard distance is 0.69 and its real golden ratio is 0\n",
      "Jaccard distance is 0.74 and its real golden ratio is 1\n",
      "Jaccard distance is 0.62 and its real golden ratio is 2\n",
      "Jaccard distance is 0.67 and its real golden ratio is 3\n",
      "Jaccard distance is 0.77 and its real golden ratio is 4\n",
      "Jaccard distance is 0.90 and its real golden ratio is 5\n",
      "Pearson linear correlation coefficient is: 0.649575809103873\n",
      "Lesk Variant: alpha_no_stop_lesk\n",
      "Jaccard distance is 0.69 and its real golden ratio is 0\n",
      "Jaccard distance is 0.67 and its real golden ratio is 1\n",
      "Jaccard distance is 0.62 and its real golden ratio is 2\n",
      "Jaccard distance is 0.55 and its real golden ratio is 3\n",
      "Jaccard distance is 0.77 and its real golden ratio is 4\n",
      "Jaccard distance is 0.86 and its real golden ratio is 5\n",
      "Pearson linear correlation coefficient is: 0.5191281385576342\n",
      "Lesk Variant: cosine_similarity\n",
      "Jaccard distance is 0.69 and its real golden ratio is 0\n",
      "Jaccard distance is 0.74 and its real golden ratio is 1\n",
      "Jaccard distance is 0.62 and its real golden ratio is 2\n",
      "Jaccard distance is 0.67 and its real golden ratio is 3\n",
      "Jaccard distance is 0.77 and its real golden ratio is 4\n",
      "Jaccard distance is 0.90 and its real golden ratio is 5\n",
      "Pearson linear correlation coefficient is: 0.649575809103873\n",
      "Lesk Variant: jaccard_sim\n",
      "Jaccard distance is 0.69 and its real golden ratio is 0\n",
      "Jaccard distance is 0.74 and its real golden ratio is 1\n",
      "Jaccard distance is 0.62 and its real golden ratio is 2\n",
      "Jaccard distance is 0.67 and its real golden ratio is 3\n",
      "Jaccard distance is 0.77 and its real golden ratio is 4\n",
      "Jaccard distance is 0.90 and its real golden ratio is 5\n",
      "Pearson linear correlation coefficient is: 0.649575809103873\n"
     ]
    }
   ],
   "source": [
    "golden_ratios = [0, 1, 2, 3, 4, 5]\n",
    "lesk_variants = [alpha_only_lesk_definition, alpha_lemma_lesk_definition, alpha_only_lesk_example, alpha_no_stop_lesk, cosine_similarity, jaccard_sim]\n",
    "pearsons = []\n",
    "for lesk_variant in lesk_variants:\n",
    "    print(f'Lesk Variant: {lesk_variant.__name__}')\n",
    "    sentences = [\n",
    "        list(map(lambda s: sentence_to_sense(s, lesk_variant), sentence_pair))\n",
    "        for sentence_pair\n",
    "        in original_sentences\n",
    "    ]\n",
    "    jaccard_distances = [jaccard_distance(*map(lambda s: set(s), sentence_pairs)) for sentence_pairs in sentences]\n",
    "    for golden_ratio, distance in zip(golden_ratios, jaccard_distances):\n",
    "        print(f'Jaccard distance is {distance:.2f} and its real golden ratio is {golden_ratio}')\n",
    "    pearson = pearsonr(jaccard_distances, golden_ratios)[0]\n",
    "    pearsons.append(pearson)\n",
    "    print(f'Pearson linear correlation coefficient is: {pearson}')"
   ]
  },
  {
   "cell_type": "code",
   "execution_count": 11,
   "metadata": {},
   "outputs": [
    {
     "data": {
      "image/png": "[encoded data removed]",
      "text/plain": [
       "<Figure size 1080x720 with 1 Axes>"
      ]
     },
     "metadata": {
      "needs_background": "light"
     },
     "output_type": "display_data"
    }
   ],
   "source": [
    "%matplotlib inline\n",
    "import matplotlib.pyplot as plt\n",
    "plt.rcParams['figure.figsize'] = [15, 10]\n",
    "import numpy as np\n",
    "\n",
    "n_groups = len(lesk_variants)\n",
    "\n",
    "fig, ax = plt.subplots()\n",
    "\n",
    "index = np.arange(n_groups)\n",
    "bar_width = 0.35\n",
    "\n",
    "ax.bar(index, pearsons, bar_width,\n",
    "        alpha=0.4, color='b', label='Pearsonr')\n",
    "plt.ylim(0.5, 0.7)\n",
    "ax.set_xlabel('Algorithm')\n",
    "ax.set_ylabel('Pearsonr')\n",
    "ax.set_title('Pearson coefficient by variation')\n",
    "ax.set_xticks(index + bar_width / 2)\n",
    "ax.set_xticklabels([f.__name__ for f in lesk_variants])\n",
    "ax.legend()\n",
    "\n",
    "fig.tight_layout()\n",
    "plt.show()"
   ]
  },
  {
   "cell_type": "code",
   "execution_count": null,
   "metadata": {},
   "outputs": [],
   "source": []
  }
 ],
 "metadata": {
  "kernelspec": {
   "display_name": "Python 3",
   "language": "python",
   "name": "python3"
  },
  "language_info": {
   "codemirror_mode": {
    "name": "ipython",
    "version": 3
   },
   "file_extension": ".py",
   "mimetype": "text/x-python",
   "name": "python",
   "nbconvert_exporter": "python",
   "pygments_lexer": "ipython3",
   "version": "3.6.0"
  }
 },
 "nbformat": 4,
 "nbformat_minor": 2
}
