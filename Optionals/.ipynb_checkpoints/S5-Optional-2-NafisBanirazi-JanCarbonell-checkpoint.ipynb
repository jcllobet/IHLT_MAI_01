{
 "cells": [
  {
   "cell_type": "markdown",
   "metadata": {},
   "source": [
    "# Optional Exercise - Session 3\n",
    "\n",
    "### Students: Nafis Banirazi & Jan Carbonell\n",
    "\n",
    "### Lab Objective: \n",
    "The first approach to perform spelling correction needs a list of\n",
    "words such as the attached file wordsEn.txt:\n",
    "( http://www-01.sil.org/linguistics/wordlists/english/ )\n",
    "The input of the process should a word to be corrected.\n",
    "The output of the process should be the same word if it is\n",
    "included in the previous word list; or the word in the list with\n",
    "minimum edit distance to the input word if it do not belong to\n",
    "the list.\n",
    "- Read the word list from the attached file\n",
    "- Implement this basic approach\n",
    "- Use the approach to correct the words: something, soemthing and some other of your choose."
   ]
  },
  {
   "cell_type": "code",
   "execution_count": 1,
   "metadata": {},
   "outputs": [],
   "source": [
    "from nltk.metrics.distance import edit_distance\n",
    "txt = open('./wordsEn.txt', 'r')\n",
    "words_en = [line.strip() for line in txt.readlines()]"
   ]
  },
  {
   "cell_type": "markdown",
   "metadata": {},
   "source": [
    "we then create the spelling corrector:"
   ]
  },
  {
   "cell_type": "code",
   "execution_count": 2,
   "metadata": {},
   "outputs": [],
   "source": [
    "def spelling_corrector(word):\n",
    "    if word in words_en:\n",
    "        return [word, 0]\n",
    "    else:\n",
    "        dist = edit_distance(word, words_en[0])\n",
    "        right_word = words_en[0]\n",
    "        for w in words_en[1:]:\n",
    "            next_dist = edit_distance(word, w)\n",
    "            if next_dist < dist:\n",
    "                dist = next_dist\n",
    "                right_word = w\n",
    "        return [right_word, 1]"
   ]
  },
  {
   "cell_type": "markdown",
   "metadata": {},
   "source": [
    "we then test it against a spelling mistake"
   ]
  },
  {
   "cell_type": "code",
   "execution_count": 5,
   "metadata": {},
   "outputs": [
    {
     "name": "stdout",
     "output_type": "stream",
     "text": [
      "something ... What a beautiful word in english it is\n",
      "soemthing ... Did you mean? -->  seething\n",
      "testing ... What a beautiful word in english it is\n",
      "lesking ... Did you mean? -->  leaking\n",
      "festing ... Did you mean? -->  besting\n",
      "mesting ... Did you mean? -->  besting\n",
      "messing ... What a beautiful word in english it is\n",
      "pessing ... Did you mean? -->  cessing\n",
      "passing ... What a beautiful word in english it is\n",
      "test ... What a beautiful word in english it is\n",
      "mess ... What a beautiful word in english it is\n"
     ]
    }
   ],
   "source": [
    "words = ['something', 'soemthing', 'testing', 'lesking', 'festing', 'mesting', 'messing', 'pessing', 'passing', 'test', 'mess']\n",
    "\n",
    "for word in words:\n",
    "    a = spelling_corrector(word)\n",
    "    if a[1] == 0:    \n",
    "        print(word, '... What a beautiful word in english it is')\n",
    "    else:\n",
    "        print(word, '... Did you mean? --> ', spelling_corrector(word)[0])"
   ]
  }
 ],
 "metadata": {
  "kernelspec": {
   "display_name": "Python 3",
   "language": "python",
   "name": "python3"
  },
  "language_info": {
   "codemirror_mode": {
    "name": "ipython",
    "version": 3
   },
   "file_extension": ".py",
   "mimetype": "text/x-python",
   "name": "python",
   "nbconvert_exporter": "python",
   "pygments_lexer": "ipython3",
   "version": "3.6.7"
  }
 },
 "nbformat": 4,
 "nbformat_minor": 2
}
