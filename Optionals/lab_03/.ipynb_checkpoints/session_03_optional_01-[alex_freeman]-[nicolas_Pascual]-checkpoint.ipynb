{
 "cells": [
  {
   "cell_type": "code",
   "execution_count": 1,
   "metadata": {},
   "outputs": [],
   "source": [
    "from nltk.metrics.distance import edit_distance"
   ]
  },
  {
   "cell_type": "code",
   "execution_count": 2,
   "metadata": {},
   "outputs": [],
   "source": [
    "with open('./given/wordsEn.txt') as words_file:\n",
    "    words = words_file.read().splitlines()"
   ]
  },
  {
   "cell_type": "code",
   "execution_count": 3,
   "metadata": {},
   "outputs": [],
   "source": [
    "def get_corrections(user_word, max_len_distance=3):\n",
    "    user_word_len = len(user_word)\n",
    "    candidate_words = [\n",
    "        word \n",
    "        for word in words\n",
    "        if abs(user_word_len - len(word)) <= max_len_distance\n",
    "    ]\n",
    "    \n",
    "    distances = [\n",
    "        (word, edit_distance(word, user_word))\n",
    "        for word in words\n",
    "    ]\n",
    "\n",
    "    minimun_distance = min(distances, key=lambda x: x[1])[1]\n",
    "\n",
    "    return [\n",
    "        distance[0]\n",
    "        for distance in distances \n",
    "        if distance[1] == minimun_distance\n",
    "    ]"
   ]
  },
  {
   "cell_type": "code",
   "execution_count": 4,
   "metadata": {},
   "outputs": [
    {
     "name": "stdout",
     "output_type": "stream",
     "text": [
      "Enter a word to be corrected: eie\n"
     ]
    },
    {
     "data": {
      "text/plain": [
       "['die',\n",
       " 'eire',\n",
       " 'eke',\n",
       " 'ere',\n",
       " 'erie',\n",
       " 'eve',\n",
       " 'ewe',\n",
       " 'eye',\n",
       " 'fie',\n",
       " 'hie',\n",
       " 'ie',\n",
       " 'lie',\n",
       " 'pie',\n",
       " 'tie',\n",
       " 'vie']"
      ]
     },
     "execution_count": 4,
     "metadata": {},
     "output_type": "execute_result"
    }
   ],
   "source": [
    "get_corrections(input('Enter a word to be corrected: '))"
   ]
  }
 ],
 "metadata": {
  "kernelspec": {
   "display_name": "Python 3",
   "language": "python",
   "name": "python3"
  },
  "language_info": {
   "codemirror_mode": {
    "name": "ipython",
    "version": 3
   },
   "file_extension": ".py",
   "mimetype": "text/x-python",
   "name": "python",
   "nbconvert_exporter": "python",
   "pygments_lexer": "ipython3",
   "version": "3.6.7"
  }
 },
 "nbformat": 4,
 "nbformat_minor": 2
}
