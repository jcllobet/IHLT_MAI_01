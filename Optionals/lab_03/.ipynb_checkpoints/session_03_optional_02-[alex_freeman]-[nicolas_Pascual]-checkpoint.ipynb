{
 "cells": [
  {
   "cell_type": "code",
   "execution_count": 1,
   "metadata": {},
   "outputs": [],
   "source": [
    "from sklearn.model_selection import StratifiedShuffleSplit\n",
    "from sklearn.feature_extraction.text import CountVectorizer\n",
    "from sklearn.neighbors import KNeighborsClassifier\n",
    "from sklearn.svm import SVC\n",
    "from sklearn.metrics import accuracy_score\n",
    "from nltk.metrics.distance import jaccard_distance\n",
    "import pandas as pd\n",
    "import numpy as np\n",
    "import re\n",
    "import nltk\n",
    "\n",
    "from nltk.metrics import ConfusionMatrix\n",
    "from nltk.tokenize import word_tokenize"
   ]
  },
  {
   "cell_type": "code",
   "execution_count": 2,
   "metadata": {},
   "outputs": [],
   "source": [
    "data_set = pd.read_csv('./given/smsspamcollection/SMSSpamCollection', sep='\\t', names=['class', 'msg'])"
   ]
  },
  {
   "cell_type": "code",
   "execution_count": 3,
   "metadata": {},
   "outputs": [],
   "source": [
    "class TextProcessor():    \n",
    "    @staticmethod\n",
    "    def clean_string(string):\n",
    "        punctuation_marks_regex = r'[\\n\\t/\\d\\':,-_\\(\\)\\.\\?\\\";!]'\n",
    "        punctuation_free_text = re.sub(punctuation_marks_regex, '', string).strip()\n",
    "        lower_puntuation_free_text = punctuation_free_text.lower()\n",
    "        lower_puntuation_and_spaces_free_text = re.sub(' +', ' ', lower_puntuation_free_text)\n",
    "        return lower_puntuation_and_spaces_free_text\n",
    "\n",
    "    @staticmethod\n",
    "    def call(text):\n",
    "        return word_tokenize(\n",
    "            TextProcessor.clean_string(text)\n",
    "        )"
   ]
  },
  {
   "cell_type": "code",
   "execution_count": 4,
   "metadata": {},
   "outputs": [],
   "source": [
    "def strattified_shuffle_split(X, y, test_size=.5):\n",
    "    train_i, test_i = next(\n",
    "        StratifiedShuffleSplit(n_splits=1, test_size=test_size)\n",
    "         .split(X, y)\n",
    "    )\n",
    "    return (X[train_i], y[train_i]), (X[test_i], y[test_i])"
   ]
  },
  {
   "cell_type": "code",
   "execution_count": 5,
   "metadata": {},
   "outputs": [],
   "source": [
    "data_set['processed_msg'] = data_set['msg'].apply(TextProcessor.call)"
   ]
  },
  {
   "cell_type": "markdown",
   "metadata": {},
   "source": [
    "## Bag Of Words Approach\n",
    "### KNN Classifier"
   ]
  },
  {
   "cell_type": "code",
   "execution_count": 6,
   "metadata": {},
   "outputs": [],
   "source": [
    "train, test = strattified_shuffle_split(data_set['msg'], data_set['class'])"
   ]
  },
  {
   "cell_type": "code",
   "execution_count": 7,
   "metadata": {},
   "outputs": [],
   "source": [
    "cv = CountVectorizer()\n",
    "train_vectorized = cv.fit_transform(train[0]), train[1]\n",
    "test_vectorizer = cv.transform(test[0]), test[1]"
   ]
  },
  {
   "cell_type": "code",
   "execution_count": 8,
   "metadata": {},
   "outputs": [],
   "source": [
    "clf = KNeighborsClassifier(1)\n",
    "clf.fit(train_vectorized[0], train_vectorized[1])\n",
    "predictions = clf.predict(test_vectorizer[0])"
   ]
  },
  {
   "cell_type": "code",
   "execution_count": 9,
   "metadata": {},
   "outputs": [
    {
     "name": "stdout",
     "output_type": "stream",
     "text": [
      "Bag of Words KNN\n",
      "----------------\n",
      "\n",
      "Accuracy: 0.9486719310839914\n",
      "Confussion Matrix:\n",
      "     |         s |\n",
      "     |    h    p |\n",
      "     |    a    a |\n",
      "     |    m    m |\n",
      "-----+-----------+\n",
      " ham |<2411>   1 |\n",
      "spam |  142 <232>|\n",
      "-----+-----------+\n",
      "(row = reference; col = test)\n",
      "\n",
      "\n"
     ]
    }
   ],
   "source": [
    "acc = accuracy_score(\n",
    "    test_vectorizer[1],\n",
    "    predictions\n",
    ")\n",
    "\n",
    "print(\n",
    "f\"\"\"\\\n",
    "Bag of Words KNN\n",
    "----------------\n",
    "\n",
    "Accuracy: {acc}\n",
    "Confussion Matrix:\n",
    "{ConfusionMatrix(test_vectorizer[1].tolist(), predictions.tolist()).pretty_format()}\n",
    "\"\"\"\n",
    ")"
   ]
  },
  {
   "cell_type": "markdown",
   "metadata": {},
   "source": [
    "### SVM"
   ]
  },
  {
   "cell_type": "code",
   "execution_count": 10,
   "metadata": {},
   "outputs": [],
   "source": [
    "clf = SVC(kernel='linear')\n",
    "clf.fit(train_vectorized[0], train_vectorized[1])\n",
    "predictions = clf.predict(test_vectorizer[0])"
   ]
  },
  {
   "cell_type": "code",
   "execution_count": 11,
   "metadata": {},
   "outputs": [
    {
     "name": "stdout",
     "output_type": "stream",
     "text": [
      "Bag of Words SVM\n",
      "----------------\n",
      "\n",
      "Accuracy: 0.9838478104809764\n",
      "Confussion Matrix:\n",
      "     |         s |\n",
      "     |    h    p |\n",
      "     |    a    a |\n",
      "     |    m    m |\n",
      "-----+-----------+\n",
      " ham |<2411>   1 |\n",
      "spam |   44 <330>|\n",
      "-----+-----------+\n",
      "(row = reference; col = test)\n",
      "\n",
      "\n"
     ]
    }
   ],
   "source": [
    "acc = accuracy_score(\n",
    "    test_vectorizer[1],\n",
    "    predictions\n",
    ")\n",
    "\n",
    "print(\n",
    "f\"\"\"\\\n",
    "Bag of Words SVM\n",
    "----------------\n",
    "\n",
    "Accuracy: {acc}\n",
    "Confussion Matrix:\n",
    "{ConfusionMatrix(test_vectorizer[1].tolist(), predictions.tolist()).pretty_format()}\n",
    "\"\"\"\n",
    ")"
   ]
  },
  {
   "cell_type": "markdown",
   "metadata": {},
   "source": [
    "## Custom Approach\n",
    "### KNN"
   ]
  },
  {
   "cell_type": "code",
   "execution_count": 12,
   "metadata": {},
   "outputs": [],
   "source": [
    "class kNN(object):\n",
    "    def __init__(self, metric_distance='jaccard'):\n",
    "        self.alg = getattr(self,metric_distance, None)\n",
    "        if self.alg == None: raise ValueError('Metric is invalid')\n",
    "        \n",
    "        self.X = None\n",
    "        self.y = None\n",
    "        \n",
    "    def fit(self, X, y):\n",
    "        self.X = X\n",
    "        self.y = y\n",
    "        \n",
    "    def predict(self, X):\n",
    "        result = []\n",
    "        for row in X:\n",
    "            min_index = self.X.tolist().index(\n",
    "                min(\n",
    "                    self.X,\n",
    "                    key=(lambda alg, row: lambda x: alg(x, row))(self.alg, row)\n",
    "                )\n",
    "            )\n",
    "            result.append(\n",
    "                self.y.tolist()[min_index]\n",
    "            )\n",
    "        return np.array(result)\n",
    "    \n",
    "    def jaccard(self, sent1, sent2):\n",
    "        if sent1 == []: sent1 = ['']\n",
    "        if sent2 == []: sent2 = ['']\n",
    "            \n",
    "        return jaccard_distance(set(sent1), set(sent2))"
   ]
  },
  {
   "cell_type": "code",
   "execution_count": 13,
   "metadata": {},
   "outputs": [],
   "source": [
    "train, test = strattified_shuffle_split(data_set['processed_msg'], data_set['class'])"
   ]
  },
  {
   "cell_type": "code",
   "execution_count": 14,
   "metadata": {},
   "outputs": [],
   "source": [
    "clf = kNN()\n",
    "clf.fit(train[0], train[1])\n",
    "predictions = clf.predict(test[0])"
   ]
  },
  {
   "cell_type": "code",
   "execution_count": 15,
   "metadata": {},
   "outputs": [
    {
     "name": "stdout",
     "output_type": "stream",
     "text": [
      "Custom KNN\n",
      "----------\n",
      "\n",
      "Accuracy: 0.9691313711414213\n",
      "Confussion Matrix:\n",
      "     |         s |\n",
      "     |    h    p |\n",
      "     |    a    a |\n",
      "     |    m    m |\n",
      "-----+-----------+\n",
      " ham |<2113> 299 |\n",
      "spam |  326  <48>|\n",
      "-----+-----------+\n",
      "(row = reference; col = test)\n",
      "\n",
      "\n"
     ]
    }
   ],
   "source": [
    "acc = accuracy_score(\n",
    "    test[1],\n",
    "    predictions\n",
    ")\n",
    "\n",
    "print(\n",
    "f\"\"\"\\\n",
    "Custom KNN\n",
    "----------\n",
    "\n",
    "Accuracy: {acc}\n",
    "Confussion Matrix:\n",
    "{ConfusionMatrix(test_vectorizer[1].tolist(), predictions.tolist()).pretty_format()}\n",
    "\"\"\"\n",
    ")"
   ]
  }
 ],
 "metadata": {
  "kernelspec": {
   "display_name": "Python 3",
   "language": "python",
   "name": "python3"
  },
  "language_info": {
   "codemirror_mode": {
    "name": "ipython",
    "version": 3
   },
   "file_extension": ".py",
   "mimetype": "text/x-python",
   "name": "python",
   "nbconvert_exporter": "python",
   "pygments_lexer": "ipython3",
   "version": "3.6.7"
  }
 },
 "nbformat": 4,
 "nbformat_minor": 2
}
