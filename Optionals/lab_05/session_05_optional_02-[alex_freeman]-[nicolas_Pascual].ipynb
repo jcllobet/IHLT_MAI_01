{
 "cells": [
  {
   "cell_type": "code",
   "execution_count": 1,
   "metadata": {},
   "outputs": [],
   "source": [
    "from nltk.corpus import wordnet, sentiwordnet, movie_reviews\n",
    "from functools import reduce\n",
    "import nltk\n",
    "from nltk.metrics import ConfusionMatrix\n",
    "from sklearn.metrics import accuracy_score"
   ]
  },
  {
   "cell_type": "code",
   "execution_count": 2,
   "metadata": {},
   "outputs": [],
   "source": [
    "data_set = []\n",
    "for sentences, file in zip(movie_reviews.paras(), movie_reviews.fileids()):\n",
    "    data_set.append((\n",
    "        reduce(lambda acc, s: acc + s, sentences),\n",
    "        file.split('/')[0]\n",
    "    ))"
   ]
  },
  {
   "cell_type": "code",
   "execution_count": 3,
   "metadata": {},
   "outputs": [],
   "source": [
    "from nltk.tag.perceptron import PerceptronTagger\n",
    "from nltk.corpus import treebank\n",
    "pos_model = PerceptronTagger(load=False)\n",
    "pos_model.train(treebank.tagged_sents())"
   ]
  },
  {
   "cell_type": "code",
   "execution_count": 4,
   "metadata": {},
   "outputs": [],
   "source": [
    "postag_mapper = {\n",
    "    'VERB': 'v',\n",
    "    'NOUN': 'n',\n",
    "    'ADJ': 'a',\n",
    "    'ADV': 'r'\n",
    "}\n",
    "\n",
    "def calculate_sentiment(words):\n",
    "    result = 0\n",
    "    for word, pos_tag in pos_model.tag(words):\n",
    "        pos_tag = nltk.tag.mapping.map_tag('en-ptb', 'universal', pos_tag)\n",
    "        if pos_tag in ['VERB', 'NOUN', 'ADJ', 'ADV']:\n",
    "            synsets = wordnet.synsets(word, postag_mapper[pos_tag])\n",
    "            if len(synsets) > 0:\n",
    "                synset = synsets[0]\n",
    "                ssn = sentiwordnet.senti_synset(synset.name())\n",
    "                result += ssn.pos_score()\n",
    "                result -= ssn.neg_score()\n",
    "    return result"
   ]
  },
  {
   "cell_type": "code",
   "execution_count": 5,
   "metadata": {},
   "outputs": [],
   "source": [
    "scores = [calculate_sentiment(review[0]) for review in data_set]"
   ]
  },
  {
   "cell_type": "code",
   "execution_count": 6,
   "metadata": {},
   "outputs": [
    {
     "name": "stdout",
     "output_type": "stream",
     "text": [
      "Accuracy: 0.572\n",
      "Confussion Matrix:\n",
      "    |   n   p |\n",
      "    |   e   o |\n",
      "    |   g   s |\n",
      "----+---------+\n",
      "neg |<217>783 |\n",
      "pos |  73<927>|\n",
      "----+---------+\n",
      "(row = reference; col = test)\n",
      "\n",
      "\n"
     ]
    }
   ],
   "source": [
    "predictions = ['pos' if s > 0 else 'neg' for s in scores]\n",
    "actuals = [review[1] for review in data_set]\n",
    "\n",
    "acc = accuracy_score(\n",
    "    predictions,\n",
    "    actuals\n",
    ")\n",
    "\n",
    "print(\n",
    "f\"\"\"\\\n",
    "Accuracy: {acc}\n",
    "Confussion Matrix:\n",
    "{ConfusionMatrix(actuals, predictions).pretty_format()}\n",
    "\"\"\"\n",
    ")"
   ]
  },
  {
   "cell_type": "markdown",
   "metadata": {},
   "source": [
    "## Conclussions\n",
    "\n",
    "As we can see most cases that should be negative are tagged as positive, this is probably caused because we are always taken the first synset which may not be the correct one.  \n",
    "Including word sense desambiguation this algorithm will throw much better results"
   ]
  }
 ],
 "metadata": {
  "kernelspec": {
   "display_name": "Python 3",
   "language": "python",
   "name": "python3"
  },
  "language_info": {
   "codemirror_mode": {
    "name": "ipython",
    "version": 3
   },
   "file_extension": ".py",
   "mimetype": "text/x-python",
   "name": "python",
   "nbconvert_exporter": "python",
   "pygments_lexer": "ipython3",
   "version": "3.6.0"
  }
 },
 "nbformat": 4,
 "nbformat_minor": 2
}
