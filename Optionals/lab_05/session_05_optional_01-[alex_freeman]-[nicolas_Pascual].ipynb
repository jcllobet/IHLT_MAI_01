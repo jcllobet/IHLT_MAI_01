{
 "cells": [
  {
   "cell_type": "code",
   "execution_count": 1,
   "metadata": {},
   "outputs": [],
   "source": [
    "from nltk.corpus import wordnet as wn"
   ]
  },
  {
   "cell_type": "code",
   "execution_count": 2,
   "metadata": {},
   "outputs": [],
   "source": [
    "def noun_sp(syn1, syn2):\n",
    "    pathcount = 1\n",
    "    lch = syn1.lowest_common_hypernyms(syn2)\n",
    "    \n",
    "    #show common hypernym a \"base\" of tree\n",
    "    print(lch[0])\n",
    "    \n",
    "    #SYN1 processing\n",
    "    #Get the index of the common hypernym\n",
    "    syn1_lch_index = syn1.hypernym_paths()[0].index(lch[0])\n",
    "    #indenting counter\n",
    "    count = 1\n",
    "    #print all the hypernyms lower in the path for syn1\n",
    "    for v in syn1.hypernym_paths()[0][syn1_lch_index + 1 : ]:\n",
    "        print((' ' * count) + str(v))\n",
    "        count+=1\n",
    "        pathcount += 1\n",
    "        \n",
    "    #SYN2 processing\n",
    "    #indenting counter\n",
    "    count = 1\n",
    "    #Get the index of the common hypernym\n",
    "    syn2_lch_index = syn2.hypernym_paths()[0].index(lch[0])\n",
    "    #print all the hypernyms lower in the path for syn2\n",
    "    for v in syn2.hypernym_paths()[0][syn2_lch_index + 1: ]:\n",
    "        print((' ' * count) + str(v))\n",
    "        count+=1\n",
    "        pathcount += 1\n",
    "        \n",
    "    print('\\nShortest path is ' + str(pathcount) + ' steps')"
   ]
  },
  {
   "cell_type": "code",
   "execution_count": 4,
   "metadata": {},
   "outputs": [
    {
     "name": "stdout",
     "output_type": "stream",
     "text": [
      "Enter first noun:cat\n",
      "Enter second noun:dog\n",
      "\n",
      "\n",
      "\n",
      "Synset('carnivore.n.01')\n",
      " Synset('feline.n.01')\n",
      "  Synset('cat.n.01')\n",
      " Synset('canine.n.02')\n",
      "  Synset('dog.n.01')\n",
      "\n",
      "Shortest path is 5 steps\n"
     ]
    }
   ],
   "source": [
    "n1 = input('Enter first noun:')\n",
    "n2 = input('Enter second noun:')\n",
    "print('\\n\\n')\n",
    "noun_sp(\n",
    "    wn.synsets(n1, 'n')[0],\n",
    "    wn.synsets(n2, 'n')[0]\n",
    ")"
   ]
  }
 ],
 "metadata": {
  "kernelspec": {
   "display_name": "Python 3",
   "language": "python",
   "name": "python3"
  },
  "language_info": {
   "codemirror_mode": {
    "name": "ipython",
    "version": 3
   },
   "file_extension": ".py",
   "mimetype": "text/x-python",
   "name": "python",
   "nbconvert_exporter": "python",
   "pygments_lexer": "ipython3",
   "version": "3.6.0"
  }
 },
 "nbformat": 4,
 "nbformat_minor": 2
}
