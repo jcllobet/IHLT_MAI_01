{
 "cells": [
  {
   "cell_type": "markdown",
   "metadata": {},
   "source": [
    "# Optional Exercise - Session 2\n",
    "\n",
    "### Students: Nafis Banirazi & Jan Carbonell\n",
    "\n",
    "### Lab Objective: \n",
    "Counting occurrances of words (such as love) in classical texts. Visualizing their closeness to other words and the affect of lower and upper case when performing a concordance search. "
   ]
  },
  {
   "cell_type": "code",
   "execution_count": 1,
   "metadata": {},
   "outputs": [],
   "source": [
    "import nltk\n",
    "import re\n",
    "from itertools import islice\n",
    "from nltk.collocations import TrigramCollocationFinder\n",
    "import math\n",
    "from nltk.metrics.scores import accuracy\n",
    "from nltk.metrics import ConfusionMatrix\n",
    "\n",
    "def preprocess(line):\n",
    "    line = line.lower()\n",
    "    line = re.sub(r'(\\d|[^\\w ])', ' ', line)\n",
    "    line = re.sub(r'^[ ]+', '', line)\n",
    "    line = line.rstrip()\n",
    "    line = re.sub(r'[ ]+', ' ', line)\n",
    "    return line\n",
    "\n"
   ]
  },
  {
   "cell_type": "markdown",
   "metadata": {},
   "source": [
    "After applying the preprocessing, we also remove all the trigrams that occur less then 5 times."
   ]
  },
  {
   "cell_type": "code",
   "execution_count": 3,
   "metadata": {},
   "outputs": [],
   "source": [
    "languages = ['deu', 'eng', 'fra', 'ita', 'nld', 'spa']\n",
    "languages_dict = {}\n",
    "for lang in languages:\n",
    "    prepro_txt = ''\n",
    "    with open('./langId/'+ lang +'_trn.txt') as f:\n",
    "        for line in f:\n",
    "            prepro_txt = '  '.join([prepro_txt, preprocess(line)])\n",
    "    find = TrigramCollocationFinder.from_words(prepro_txt)\n",
    "    find.apply_freq_filter(5)\n",
    "    languages_dict[lang] = find.ngram_fd"
   ]
  }
 ],
 "metadata": {
  "kernelspec": {
   "display_name": "Python 3",
   "language": "python",
   "name": "python3"
  },
  "language_info": {
   "codemirror_mode": {
    "name": "ipython",
    "version": 3
   },
   "file_extension": ".py",
   "mimetype": "text/x-python",
   "name": "python",
   "nbconvert_exporter": "python",
   "pygments_lexer": "ipython3",
   "version": "3.6.7"
  }
 },
 "nbformat": 4,
 "nbformat_minor": 2
}
