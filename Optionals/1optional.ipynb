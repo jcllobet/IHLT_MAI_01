{
 "cells": [
  {
   "cell_type": "code",
   "execution_count": 1,
   "metadata": {},
   "outputs": [],
   "source": [
    "from nltk.corpus import gutenberg\n",
    "from nltk.text import Text\n",
    "crp = Text(gutenberg.words('austen-sense.txt'))"
   ]
  },
  {
   "cell_type": "code",
   "execution_count": 2,
   "metadata": {},
   "outputs": [
    {
     "data": {
      "text/plain": [
       "77"
      ]
     },
     "execution_count": 2,
     "metadata": {},
     "output_type": "execute_result"
    }
   ],
   "source": [
    "crp.count('love')"
   ]
  },
  {
   "cell_type": "code",
   "execution_count": 3,
   "metadata": {},
   "outputs": [
    {
     "data": {
      "text/plain": [
       "0"
      ]
     },
     "execution_count": 3,
     "metadata": {},
     "output_type": "execute_result"
    }
   ],
   "source": [
    "crp.count('Love')"
   ]
  },
  {
   "cell_type": "code",
   "execution_count": 4,
   "metadata": {},
   "outputs": [
    {
     "name": "stdout",
     "output_type": "stream",
     "text": [
      "Displaying 25 of 25 matches:\n",
      "opriety of going , and her own tender love for all her three children determined\n",
      "ses .\" \" I believe you are right , my love ; it will be better that there should\n",
      "h . It implies everything amiable . I love him already .\" \" I think you will lik\n",
      " sentiment of approbation inferior to love .\" \" You may esteem him .\" \" I have n\n",
      "wn what it was to separate esteem and love .\" Mrs . Dashwood now took pains to g\n",
      "ooner did she perceive any symptom of love in his behaviour to Elinor , than she\n",
      ", how shall we do without her ?\" \" My love , it will be scarcely a separation . \n",
      "rise . Edward is very amiable , and I love him tenderly . But yet -- he is not t\n",
      "all never see a man whom I can really love . I require so much ! He must have al\n",
      "ery possible charm .\" \" Remember , my love , that you are not seventeen . It is \n",
      "if I do not now . When you tell me to love him as a brother , I shall no more se\n",
      "that Colonel Brandon was very much in love with Marianne Dashwood . She rather s\n",
      "he were ever animated enough to be in love , must have long outlived every sensa\n",
      "thirty - five anything near enough to love , to make him a desirable companion t\n",
      "proach would have been spared .\" \" My love ,\" said her mother , \" you must not b\n",
      "spect that the misery of disappointed love had already been known to him . This \n",
      "e most melancholy order of disastrous love . CHAPTER 12 As Elinor and Marianne w\n",
      "when she considered what Marianne ' s love for him was , a quarrel seemed almost\n",
      "actory way ;-- but you , Elinor , who love to doubt where you can -- it will not\n",
      "e man whom we have all such reason to love , and no reason in the world to think\n",
      "aded as he must be of your sister ' s love , should leave her , and leave her pe\n",
      " cannot think that . He must and does love her I am sure .\" \" But with a strange\n",
      ", I believe not ,\" cried Elinor . \" I love Willoughby , sincerely love him ; and\n",
      "nor . \" I love Willoughby , sincerely love him ; and suspicion of his integrity \n",
      "ndeed a man could not very well be in love with either of her daughters , withou\n"
     ]
    }
   ],
   "source": [
    "crp.concordance('love')"
   ]
  },
  {
   "cell_type": "code",
   "execution_count": 5,
   "metadata": {},
   "outputs": [
    {
     "name": "stdout",
     "output_type": "stream",
     "text": [
      "affection sister heart mother time see town life it dear elinor\n",
      "marianne me word family her him do regard head\n"
     ]
    }
   ],
   "source": [
    "crp.similar('love')"
   ]
  },
  {
   "cell_type": "code",
   "execution_count": 6,
   "metadata": {},
   "outputs": [
    {
     "name": "stdout",
     "output_type": "stream",
     "text": [
      "('The following word(s) were not found:', 'love laught')\n"
     ]
    }
   ],
   "source": [
    "crp.common_contexts(['love', 'laught'])"
   ]
  },
  {
   "cell_type": "code",
   "execution_count": 7,
   "metadata": {},
   "outputs": [
    {
     "data": {
      "image/png": "[encoded data removed]",
      "text/plain": [
       "<Figure size 432x288 with 1 Axes>"
      ]
     },
     "metadata": {},
     "output_type": "display_data"
    }
   ],
   "source": [
    "%matplotlib inline\n",
    "crp.dispersion_plot(['love', 'laught'])"
   ]
  }
 ],
 "metadata": {
  "kernelspec": {
   "display_name": "Python 3",
   "language": "python",
   "name": "python3"
  },
  "language_info": {
   "codemirror_mode": {
    "name": "ipython",
    "version": 3
   },
   "file_extension": ".py",
   "mimetype": "text/x-python",
   "name": "python",
   "nbconvert_exporter": "python",
   "pygments_lexer": "ipython3",
   "version": "3.6.5"
  }
 },
 "nbformat": 4,
 "nbformat_minor": 2
}
