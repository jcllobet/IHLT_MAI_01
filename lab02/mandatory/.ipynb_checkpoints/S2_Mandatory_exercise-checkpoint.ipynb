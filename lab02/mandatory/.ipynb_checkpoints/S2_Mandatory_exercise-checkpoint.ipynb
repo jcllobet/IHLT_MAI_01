{
 "cells": [
  {
   "cell_type": "code",
   "execution_count": 1,
   "metadata": {},
   "outputs": [],
   "source": [
    "import nltk\n",
    "from nltk.metrics import jaccard_distance\n",
    "from scipy.stats import pearsonr\n",
    "\n",
    "pairs = []\n",
    "tests = []\n",
    "standard = []"
   ]
  },
  {
   "cell_type": "code",
   "execution_count": 2,
   "metadata": {},
   "outputs": [],
   "source": [
    "for line in open('./trial/STS.input.txt','r'):\n",
    "    line = line.strip().split(\"\\t\")\n",
    "    pairs.append(line[1:])    \n",
    "\n",
    "for line in open('./trial/STS.gs.txt','r'):\n",
    "    line = line.strip().split(\"\\t\")\n",
    "    standard.append(int(line[1]))"
   ]
  },
  {
   "cell_type": "code",
   "execution_count": 8,
   "metadata": {},
   "outputs": [],
   "source": [
    "for pair in pairs:\n",
    "    sentence = \" \".join(pair)\n",
    "    tok_sen = nltk.sent_tokenize(sentence)\n",
    "\n",
    "    # tokenizer\n",
    "    a = [nltk.word_tokenize(s) for s in tok_sen]\n",
    "    \n",
    "    # to avoid inheriting regex problem  https://github.com/nltk/nltk/issues/1630\n",
    "    if '``' in a[0]:\n",
    "        a[0].remove('``')\n",
    "    elif '``' in a[1]:\n",
    "        a[1].remove('``')\n",
    "        \n",
    "    w1 = set(a[0])\n",
    "    w2 = set(a[1])\n",
    "\n",
    "    # jaccard similarity 1 - jaccard distance\n",
    "    dist = jaccard_distance(w1, w2)\n",
    "    jaccard_similarity = 1 - dist\n",
    "    tests.append(jaccard_similarity)"
   ]
  },
  {
   "cell_type": "code",
   "execution_count": 9,
   "metadata": {},
   "outputs": [
    {
     "data": {
      "text/plain": [
       "0.41437708723338945"
      ]
     },
     "execution_count": 9,
     "metadata": {},
     "output_type": "execute_result"
    }
   ],
   "source": [
    "pearsonr(standard[0:6], tests[0:6])[0]"
   ]
  },
  {
   "cell_type": "code",
   "execution_count": 10,
   "metadata": {},
   "outputs": [
    {
     "name": "stdout",
     "output_type": "stream",
     "text": [
      "[5, 4, 3, 2, 1, 0]\n",
      "[0.3076923076923077, 0.26315789473684215, 0.33333333333333337, 0.4545454545454546, 0.23076923076923073, 0.13793103448275867]\n"
     ]
    },
    {
     "data": {
      "text/plain": [
       "0.3962389776119233"
      ]
     },
     "execution_count": 10,
     "metadata": {},
     "output_type": "execute_result"
    }
   ],
   "source": [
    "print(standard[0:6])\n",
    "print(tests[0:6])\n",
    "golden_record = [5, 4, 3, 2, 1, 0]\n",
    "jaccard_similarity = [0.3076923076923077, 0.26315789473684215, 0.4666666666666667, 0.4545454545454546, 0.23076923076923073, 0.13793103448275867]\n",
    "pearsonr(golden_record, jaccard_similarity)[0]"
   ]
  },
  {
   "cell_type": "code",
   "execution_count": null,
   "metadata": {},
   "outputs": [],
   "source": []
  }
 ],
 "metadata": {
  "kernelspec": {
   "display_name": "Python 3",
   "language": "python",
   "name": "python3"
  },
  "language_info": {
   "codemirror_mode": {
    "name": "ipython",
    "version": 3
   },
   "file_extension": ".py",
   "mimetype": "text/x-python",
   "name": "python",
   "nbconvert_exporter": "python",
   "pygments_lexer": "ipython3",
   "version": "3.6.6"
  }
 },
 "nbformat": 4,
 "nbformat_minor": 2
}
