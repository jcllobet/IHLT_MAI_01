{
 "cells": [
  {
   "cell_type": "code",
   "execution_count": 1,
   "metadata": {},
   "outputs": [],
   "source": [
    "import nltk\n",
    "from nltk.metrics import jaccard_distance\n",
    "from scipy.stats import pearsonr\n",
    "\n",
    "d = {}\n",
    "tests = []\n",
    "standard = []"
   ]
  },
  {
   "cell_type": "code",
   "execution_count": 14,
   "metadata": {},
   "outputs": [
    {
     "name": "stdout",
     "output_type": "stream",
     "text": [
      "{'id1': ['The bird is bathing in the sink.', 'Birdie is washing itself in the water basin.'], 'id2': ['In May 2010, the troops attempted to invade Kabul.', 'The US army invaded Kabul on May 7th last year, 2010.'], 'id3': ['John said he is considered a witness but not a suspect.', '\"He is not a suspect anymore.\" John said.'], 'id4': ['They flew out of the nest in groups.', 'They flew into the nest together.'], 'id5': ['The woman is playing the violin.', 'The young lady enjoys listening to the guitar.'], 'id6': ['John went horse back riding at dawn with a whole group of friends.', 'Sunrise at dawn is a magnificent view to take in if you wake up early enough for it.']}\n"
     ]
    }
   ],
   "source": [
    "for line in open('./trial/STS.input.txt','r'):\n",
    "    line = line.strip().split(\"\\t\")\n",
    "    if line[0] in d:\n",
    "        pass\n",
    "    else:\n",
    "        d[line[0]] = line[1:] \n",
    "print(d)"
   ]
  },
  {
   "cell_type": "markdown",
   "metadata": {},
   "source": [
    "eliminar tota la puntació directament amb string punctuation"
   ]
  },
  {
   "cell_type": "code",
   "execution_count": 7,
   "metadata": {},
   "outputs": [
    {
     "name": "stdout",
     "output_type": "stream",
     "text": [
      "[['The', 'bird', 'is', 'bathing', 'in', 'the', 'sink', '.'], ['Birdie', 'is', 'washing', 'itself', 'in', 'the', 'water', 'basin', '.']]\n",
      "[['In', 'May', '2010', ',', 'the', 'troops', 'attempted', 'to', 'invade', 'Kabul', '.'], ['The', 'US', 'army', 'invaded', 'Kabul', 'on', 'May', '7th', 'last', 'year', ',', '2010', '.']]\n",
      "[['John', 'said', 'he', 'is', 'considered', 'a', 'witness', 'but', 'not', 'a', 'suspect', '.'], ['``', 'He', 'is', 'not', 'a', 'suspect', 'anymore', '.', \"''\", 'John', 'said', '.']]\n",
      "[['They', 'flew', 'out', 'of', 'the', 'nest', 'in', 'groups', '.'], ['They', 'flew', 'into', 'the', 'nest', 'together', '.']]\n",
      "[['The', 'woman', 'is', 'playing', 'the', 'violin', '.'], ['The', 'young', 'lady', 'enjoys', 'listening', 'to', 'the', 'guitar', '.']]\n",
      "[['John', 'went', 'horse', 'back', 'riding', 'at', 'dawn', 'with', 'a', 'whole', 'group', 'of', 'friends', '.'], ['Sunrise', 'at', 'dawn', 'is', 'a', 'magnificent', 'view', 'to', 'take', 'in', 'if', 'you', 'wake', 'up', 'early', 'enough', 'for', 'it', '.']]\n"
     ]
    }
   ],
   "source": [
    "for key in d:\n",
    "    sents = [nltk.word_tokenize(s) for s in d[key]]\n",
    "    \n",
    "    # to avoid inheriting regex problem  https://github.com/nltk/nltk/issues/1630\n",
    "    #if '``' in a[0]:\n",
    "    #    a[0].remove('``')\n",
    "    #elif '``' in a[1]:\n",
    "    #    a[1].remove('``')\n",
    "    \n",
    "    print(sents)\n",
    "        \n",
    "    w1 = set(sents[0])\n",
    "    w2 = set(sents[1])\n",
    "        \n",
    "\n",
    "    # jaccard similarity 1 - jaccard distance\n",
    "    dist = jaccard_distance(w1, w2)\n",
    "    jaccard_similarity = 1 - dist\n",
    "    tests.append(jaccard_similarity)"
   ]
  },
  {
   "cell_type": "code",
   "execution_count": 4,
   "metadata": {},
   "outputs": [],
   "source": [
    "for line in open('./trial/STS.gs.txt','r'):\n",
    "    line = line.strip().split(\"\\t\")\n",
    "    standard.append(int(line[1]))"
   ]
  },
  {
   "cell_type": "code",
   "execution_count": 5,
   "metadata": {},
   "outputs": [
    {
     "data": {
      "text/plain": [
       "0.3962389776119233"
      ]
     },
     "execution_count": 5,
     "metadata": {},
     "output_type": "execute_result"
    }
   ],
   "source": [
    "pearsonr(standard[0:6], tests[0:6])[0]"
   ]
  },
  {
   "cell_type": "code",
   "execution_count": 6,
   "metadata": {},
   "outputs": [
    {
     "name": "stdout",
     "output_type": "stream",
     "text": [
      "[5, 4, 3, 2, 1, 0]\n",
      "[0.3076923076923077, 0.26315789473684215, 0.4666666666666667, 0.4545454545454546, 0.23076923076923073, 0.13793103448275867]\n"
     ]
    },
    {
     "data": {
      "text/plain": [
       "0.3962389776119233"
      ]
     },
     "execution_count": 6,
     "metadata": {},
     "output_type": "execute_result"
    }
   ],
   "source": [
    "print(standard[0:6])\n",
    "print(tests[0:6])\n",
    "golden_record = [5, 4, 3, 2, 1, 0]\n",
    "jaccard_similarity = [0.3076923076923077, 0.26315789473684215, 0.4666666666666667, 0.4545454545454546, 0.23076923076923073, 0.13793103448275867]\n",
    "pearsonr(golden_record, jaccard_similarity)[0]"
   ]
  },
  {
   "cell_type": "code",
   "execution_count": null,
   "metadata": {},
   "outputs": [],
   "source": []
  }
 ],
 "metadata": {
  "kernelspec": {
   "display_name": "Python 3",
   "language": "python",
   "name": "python3"
  },
  "language_info": {
   "codemirror_mode": {
    "name": "ipython",
    "version": 3
   },
   "file_extension": ".py",
   "mimetype": "text/x-python",
   "name": "python",
   "nbconvert_exporter": "python",
   "pygments_lexer": "ipython3",
   "version": "3.6.6"
  }
 },
 "nbformat": 4,
 "nbformat_minor": 2
}
